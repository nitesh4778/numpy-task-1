{
  "cells": [
    {
      "cell_type": "markdown",
      "metadata": {
        "id": "G1WyNNtKBe7V"
      },
      "source": [
        "# Numpy\n",
        "\n"
      ]
    },
    {
      "cell_type": "markdown",
      "metadata": {
        "id": "YwXOePUGBe7b"
      },
      "source": [
        "#### 1. Import the numpy package under the name `np` (★☆☆) \n",
        "(**hint**: import … as …)"
      ]
    },
    {
      "cell_type": "code",
      "execution_count": null,
      "metadata": {
        "collapsed": true,
        "id": "MJJuMz6oBe7d"
      },
      "outputs": [],
      "source": [
        "import numpy as np"
      ]
    },
    {
      "cell_type": "markdown",
      "metadata": {
        "id": "kumWnoCfBe7e"
      },
      "source": [
        "#### 2. Print the numpy version and the configuration (★☆☆) \n",
        "(**hint**: np.\\_\\_version\\_\\_, np.show\\_config)"
      ]
    },
    {
      "cell_type": "code",
      "execution_count": null,
      "metadata": {
        "colab": {
          "base_uri": "https://localhost:8080/"
        },
        "id": "taposyvyBe7f",
        "outputId": "13ce1296-c679-4e99-dd62-a69d98041787"
      },
      "outputs": [
        {
          "output_type": "stream",
          "name": "stdout",
          "text": [
            "1.21.5\n",
            "blas_mkl_info:\n",
            "  NOT AVAILABLE\n",
            "blis_info:\n",
            "  NOT AVAILABLE\n",
            "openblas_info:\n",
            "    libraries = ['openblas', 'openblas']\n",
            "    library_dirs = ['/usr/local/lib']\n",
            "    language = c\n",
            "    define_macros = [('HAVE_CBLAS', None)]\n",
            "    runtime_library_dirs = ['/usr/local/lib']\n",
            "blas_opt_info:\n",
            "    libraries = ['openblas', 'openblas']\n",
            "    library_dirs = ['/usr/local/lib']\n",
            "    language = c\n",
            "    define_macros = [('HAVE_CBLAS', None)]\n",
            "    runtime_library_dirs = ['/usr/local/lib']\n",
            "lapack_mkl_info:\n",
            "  NOT AVAILABLE\n",
            "openblas_lapack_info:\n",
            "    libraries = ['openblas', 'openblas']\n",
            "    library_dirs = ['/usr/local/lib']\n",
            "    language = c\n",
            "    define_macros = [('HAVE_CBLAS', None)]\n",
            "    runtime_library_dirs = ['/usr/local/lib']\n",
            "lapack_opt_info:\n",
            "    libraries = ['openblas', 'openblas']\n",
            "    library_dirs = ['/usr/local/lib']\n",
            "    language = c\n",
            "    define_macros = [('HAVE_CBLAS', None)]\n",
            "    runtime_library_dirs = ['/usr/local/lib']\n",
            "Supported SIMD extensions in this NumPy install:\n",
            "    baseline = SSE,SSE2,SSE3\n",
            "    found = SSSE3,SSE41,POPCNT,SSE42,AVX,F16C,FMA3,AVX2\n",
            "    not found = AVX512F,AVX512CD,AVX512_KNL,AVX512_KNM,AVX512_SKX,AVX512_CLX,AVX512_CNL,AVX512_ICL\n"
          ]
        }
      ],
      "source": [
        "print(np.__version__)\n",
        "np.__config__.show()"
      ]
    },
    {
      "cell_type": "markdown",
      "metadata": {
        "id": "hgYTGyw7Be7f"
      },
      "source": [
        "#### 3. Create a null vector of size 10 (★☆☆) \n",
        "(**hint**: np.zeros)"
      ]
    },
    {
      "cell_type": "code",
      "execution_count": null,
      "metadata": {
        "colab": {
          "base_uri": "https://localhost:8080/"
        },
        "id": "v5klppVWBe7g",
        "outputId": "c1581c24-c7b8-4641-8de5-c543f6f7ff99"
      },
      "outputs": [
        {
          "output_type": "stream",
          "name": "stdout",
          "text": [
            "[0. 0. 0. 0. 0. 0. 0. 0. 0. 0.]\n"
          ]
        }
      ],
      "source": [
        "z=np.zeros(10)\n",
        "print(z)"
      ]
    },
    {
      "cell_type": "markdown",
      "metadata": {
        "id": "vsK1BxH0Be7h"
      },
      "source": [
        "#### 4.  How to find the memory size of any array (★☆☆) \n",
        "(**hint**: size, itemsize)"
      ]
    },
    {
      "cell_type": "code",
      "execution_count": 11,
      "metadata": {
        "id": "ZdjqDxrKBe7i",
        "colab": {
          "base_uri": "https://localhost:8080/"
        },
        "outputId": "bf8672f9-3e5b-4af5-e070-34428b93dba2"
      },
      "outputs": [
        {
          "output_type": "stream",
          "name": "stdout",
          "text": [
            "Size of the array:  4\n",
            "Memory size of one array element in bytes:  8\n"
          ]
        }
      ],
      "source": [
        "x = np.array([8,2,65, 49])\n",
        "  \n",
        "print(\"Size of the array: \",\n",
        "      x.size)\n",
        "  \n",
        "print(\"Memory size of one array element in bytes: \",\n",
        "      x.itemsize)\n",
        "  "
      ]
    },
    {
      "cell_type": "markdown",
      "metadata": {
        "id": "7XqwLXYaBe7k"
      },
      "source": [
        "#### 5.  How to get the documentation of the numpy add function from the command line? (★☆☆) \n",
        "(**hint**: np.info)"
      ]
    },
    {
      "cell_type": "code",
      "execution_count": 15,
      "metadata": {
        "collapsed": true,
        "id": "SIiJaSlCBe7k",
        "colab": {
          "base_uri": "https://localhost:8080/",
          "height": 35
        },
        "outputId": "bc9f2651-295f-43e0-f54c-ca008e496cdc"
      },
      "outputs": [
        {
          "output_type": "execute_result",
          "data": {
            "text/plain": [
              "'import np; np.info(np.add)'"
            ],
            "application/vnd.google.colaboratory.intrinsic+json": {
              "type": "string"
            }
          },
          "metadata": {},
          "execution_count": 15
        }
      ],
      "source": [
        "\"import np; np.info(np.add)\""
      ]
    },
    {
      "cell_type": "markdown",
      "metadata": {
        "id": "Of7bHyVTBe7l"
      },
      "source": [
        "#### 6.  Create a null vector of size 10 but the fifth value which is 1 (★☆☆) \n",
        "(**hint**: array\\[4\\])"
      ]
    },
    {
      "cell_type": "code",
      "execution_count": 16,
      "metadata": {
        "id": "JVn4h6hLBe7l",
        "colab": {
          "base_uri": "https://localhost:8080/"
        },
        "outputId": "751603a8-2410-4dc7-c8c7-ed00e20323db"
      },
      "outputs": [
        {
          "output_type": "stream",
          "name": "stdout",
          "text": [
            "[0. 0. 0. 0. 1. 0. 0. 0. 0. 0.]\n"
          ]
        }
      ],
      "source": [
        "a= np.zeros(10)\n",
        "a[4]= 1\n",
        "print (a)"
      ]
    },
    {
      "cell_type": "markdown",
      "metadata": {
        "id": "1fHJisTWBe7m"
      },
      "source": [
        "#### 7.  Create a vector with values ranging from 10 to 49 (★☆☆) \n",
        "(**hint**: np.arange)"
      ]
    },
    {
      "cell_type": "code",
      "execution_count": 18,
      "metadata": {
        "id": "-urbw0tiBe7n",
        "colab": {
          "base_uri": "https://localhost:8080/"
        },
        "outputId": "22c7004e-4812-4b91-a18f-b9e9071cc3c9"
      },
      "outputs": [
        {
          "output_type": "stream",
          "name": "stdout",
          "text": [
            "[10 11 12 13 14 15 16 17 18 19 20 21 22 23 24 25 26 27 28 29 30 31 32 33\n",
            " 34 35 36 37 38 39 40 41 42 43 44 45 46 47 48 49]\n"
          ]
        }
      ],
      "source": [
        "a=np.arange(10,50)\n",
        "print (a)"
      ]
    },
    {
      "cell_type": "markdown",
      "metadata": {
        "id": "oc3xuRBEBe7n"
      },
      "source": [
        "#### 8.  Reverse a vector (first element becomes last) (★☆☆) \n",
        "(**hint**: array\\[::-1\\])"
      ]
    },
    {
      "cell_type": "code",
      "execution_count": 19,
      "metadata": {
        "id": "Ni6XpqSQBe7n",
        "colab": {
          "base_uri": "https://localhost:8080/"
        },
        "outputId": "71f4dc0f-18ec-4503-de95-74fc641712b5"
      },
      "outputs": [
        {
          "output_type": "stream",
          "name": "stdout",
          "text": [
            "[49 48 47 46 45 44 43 42 41 40 39 38 37 36 35 34 33 32 31 30 29 28 27 26\n",
            " 25 24 23 22 21 20 19 18 17 16 15 14 13 12 11 10]\n"
          ]
        }
      ],
      "source": [
        "a=np.arange(10,50)\n",
        "a=a[::-1]\n",
        "print (a)"
      ]
    },
    {
      "cell_type": "markdown",
      "metadata": {
        "id": "u-FCN0_UBe7o"
      },
      "source": [
        "#### 9.  Create a 3x3 matrix with values ranging from 0 to 8 (★☆☆) \n",
        "(**hint**: reshape)"
      ]
    },
    {
      "cell_type": "code",
      "execution_count": 20,
      "metadata": {
        "id": "HEOmvD3xBe7o",
        "colab": {
          "base_uri": "https://localhost:8080/"
        },
        "outputId": "65b5e346-7528-45ac-c725-47f7b303f052"
      },
      "outputs": [
        {
          "output_type": "stream",
          "name": "stdout",
          "text": [
            "[[0 1 2]\n",
            " [3 4 5]\n",
            " [6 7 8]]\n"
          ]
        }
      ],
      "source": [
        "a = np.arange(9).reshape(3,3)\n",
        "print (a)"
      ]
    },
    {
      "cell_type": "markdown",
      "metadata": {
        "id": "cZcqvh6RBe7p"
      },
      "source": [
        "#### 10. Find indices of non-zero elements from \\[1,2,0,0,4,0\\] (★☆☆) \n",
        "(**hint**: np.nonzero)"
      ]
    },
    {
      "cell_type": "code",
      "execution_count": 21,
      "metadata": {
        "id": "884ndhEuBe7p",
        "colab": {
          "base_uri": "https://localhost:8080/"
        },
        "outputId": "dc1022b6-5093-41ef-f685-51b916efd954"
      },
      "outputs": [
        {
          "output_type": "stream",
          "name": "stdout",
          "text": [
            "(array([0, 1, 4]),)\n"
          ]
        }
      ],
      "source": [
        "nz = np.nonzero([1,2,0,0,4,0])\n",
        "print(nz)"
      ]
    },
    {
      "cell_type": "markdown",
      "metadata": {
        "id": "JmHoDeDiBe7q"
      },
      "source": [
        "#### 11. Create a 3x3 identity matrix (★☆☆) \n",
        "(**hint**: np.eye)"
      ]
    },
    {
      "cell_type": "code",
      "execution_count": 22,
      "metadata": {
        "id": "YluOrFcUBe7q",
        "colab": {
          "base_uri": "https://localhost:8080/"
        },
        "outputId": "08e32f64-9f0c-45f3-e3a0-63dc065a147b"
      },
      "outputs": [
        {
          "output_type": "stream",
          "name": "stdout",
          "text": [
            "[[1. 0. 0.]\n",
            " [0. 1. 0.]\n",
            " [0. 0. 1.]]\n"
          ]
        }
      ],
      "source": [
        "a= np.eye(3)\n",
        "print (a)"
      ]
    },
    {
      "cell_type": "markdown",
      "metadata": {
        "id": "04hCvmOYBe7q"
      },
      "source": [
        "#### 12. Create a 3x3x3 array with random values (★☆☆) \n",
        "(**hint**: np.random.random)"
      ]
    },
    {
      "cell_type": "code",
      "execution_count": 24,
      "metadata": {
        "collapsed": true,
        "id": "HI4RpJtwBe7q",
        "colab": {
          "base_uri": "https://localhost:8080/"
        },
        "outputId": "68110859-cea6-47e6-eef5-c00ac54569ee"
      },
      "outputs": [
        {
          "output_type": "stream",
          "name": "stdout",
          "text": [
            "[[[0.18035881 0.03692572 0.79861247]\n",
            "  [0.48978081 0.44237283 0.81338882]\n",
            "  [0.72537198 0.08146915 0.45570749]]\n",
            "\n",
            " [[0.37772839 0.81003997 0.57251986]\n",
            "  [0.58167141 0.99879766 0.13386649]\n",
            "  [0.50559603 0.26954879 0.22716883]]\n",
            "\n",
            " [[0.45593272 0.60666603 0.94397406]\n",
            "  [0.53979473 0.67115535 0.97906429]\n",
            "  [0.23943275 0.74655334 0.9191254 ]]]\n"
          ]
        }
      ],
      "source": [
        "a = np.random.random((3,3,3))\n",
        "print (a)"
      ]
    },
    {
      "cell_type": "markdown",
      "metadata": {
        "id": "CsFinpyMBe7r"
      },
      "source": [
        "#### 13. Create a 10x10 array with random values and find the minimum and maximum values (★☆☆) \n",
        "(**hint**: min, max)"
      ]
    },
    {
      "cell_type": "code",
      "execution_count": 26,
      "metadata": {
        "id": "Z6hMhLEpBe7r",
        "colab": {
          "base_uri": "https://localhost:8080/"
        },
        "outputId": "fb2e4b4a-1617-4828-9487-7f0eb4e3e389"
      },
      "outputs": [
        {
          "output_type": "stream",
          "name": "stdout",
          "text": [
            "0.0017018653876976764 0.9911141721854373\n"
          ]
        }
      ],
      "source": [
        "a = np.random.random((10,10))\n",
        "amin, amax = a.min(), a.max()\n",
        "print(amin, amax)"
      ]
    },
    {
      "cell_type": "markdown",
      "metadata": {
        "id": "_CM-vVOLBe7r"
      },
      "source": [
        "#### 14. Create a random vector of size 30 and find the mean value (★☆☆) \n",
        "(**hint**: mean)"
      ]
    },
    {
      "cell_type": "code",
      "execution_count": 27,
      "metadata": {
        "id": "MfsbFGsyBe7s",
        "colab": {
          "base_uri": "https://localhost:8080/"
        },
        "outputId": "7e467c4d-a7a4-40cd-e487-3a2be90eb400"
      },
      "outputs": [
        {
          "output_type": "stream",
          "name": "stdout",
          "text": [
            "0.4775337515693868\n"
          ]
        }
      ],
      "source": [
        "a = np.random.random(10)\n",
        "b = a.mean()\n",
        "print (b)"
      ]
    },
    {
      "cell_type": "markdown",
      "metadata": {
        "id": "EQyRQg_yBe7s"
      },
      "source": [
        "#### 15. Create a 2d array with 1 on the border and 0 inside (★☆☆) \n",
        "(**hint**: array\\[1:-1, 1:-1\\])"
      ]
    },
    {
      "cell_type": "code",
      "execution_count": 30,
      "metadata": {
        "id": "2Su0nHEFBe7s",
        "colab": {
          "base_uri": "https://localhost:8080/"
        },
        "outputId": "9851afbc-74f3-4c2b-c796-b75cd5364daf"
      },
      "outputs": [
        {
          "output_type": "stream",
          "name": "stdout",
          "text": [
            "[[1. 1. 1. 1. 1. 1. 1. 1. 1. 1.]\n",
            " [1. 0. 0. 0. 0. 0. 0. 0. 0. 1.]\n",
            " [1. 0. 0. 0. 0. 0. 0. 0. 0. 1.]\n",
            " [1. 0. 0. 0. 0. 0. 0. 0. 0. 1.]\n",
            " [1. 0. 0. 0. 0. 0. 0. 0. 0. 1.]\n",
            " [1. 0. 0. 0. 0. 0. 0. 0. 0. 1.]\n",
            " [1. 0. 0. 0. 0. 0. 0. 0. 0. 1.]\n",
            " [1. 0. 0. 0. 0. 0. 0. 0. 0. 1.]\n",
            " [1. 0. 0. 0. 0. 0. 0. 0. 0. 1.]\n",
            " [1. 1. 1. 1. 1. 1. 1. 1. 1. 1.]]\n"
          ]
        }
      ],
      "source": [
        "a = np.ones((10,10))\n",
        "a[1:-1,1:-1]=0\n",
        "print(a)"
      ]
    },
    {
      "cell_type": "markdown",
      "metadata": {
        "id": "NO7X52O7Be7s"
      },
      "source": [
        "#### 16. How to add a border (filled with 0's) around an existing array? (★☆☆) \n",
        "(**hint**: np.pad)"
      ]
    },
    {
      "cell_type": "code",
      "execution_count": 29,
      "metadata": {
        "id": "XHgsL8BlBe7t",
        "colab": {
          "base_uri": "https://localhost:8080/"
        },
        "outputId": "7a1486cf-3ff2-4343-9f88-0be43deab517"
      },
      "outputs": [
        {
          "output_type": "stream",
          "name": "stdout",
          "text": [
            "[[0. 0. 0. 0. 0. 0. 0. 0. 0. 0. 0. 0.]\n",
            " [0. 1. 1. 1. 1. 1. 1. 1. 1. 1. 1. 0.]\n",
            " [0. 1. 0. 0. 0. 0. 0. 0. 0. 0. 1. 0.]\n",
            " [0. 1. 0. 0. 0. 0. 0. 0. 0. 0. 1. 0.]\n",
            " [0. 1. 0. 0. 0. 0. 0. 0. 0. 0. 1. 0.]\n",
            " [0. 1. 0. 0. 0. 0. 0. 0. 0. 0. 1. 0.]\n",
            " [0. 1. 0. 0. 0. 0. 0. 0. 0. 0. 1. 0.]\n",
            " [0. 1. 0. 0. 0. 0. 0. 0. 0. 0. 1. 0.]\n",
            " [0. 1. 0. 0. 0. 0. 0. 0. 0. 0. 1. 0.]\n",
            " [0. 1. 0. 0. 0. 0. 0. 0. 0. 0. 1. 0.]\n",
            " [0. 1. 1. 1. 1. 1. 1. 1. 1. 1. 1. 0.]\n",
            " [0. 0. 0. 0. 0. 0. 0. 0. 0. 0. 0. 0.]]\n"
          ]
        }
      ],
      "source": [
        "a = np.pad(a, pad_width=1, mode='constant', constant_values=0)\n",
        "print(a)"
      ]
    },
    {
      "cell_type": "markdown",
      "metadata": {
        "id": "nHvAErLhBe7t"
      },
      "source": [
        "#### 17. What is the result of the following expression? (★☆☆) \n",
        "(**hint**: NaN = not a number, inf = infinity)"
      ]
    },
    {
      "cell_type": "markdown",
      "metadata": {
        "id": "YSoxgQ_nBe7t"
      },
      "source": [
        "```python\n",
        "0 * np.nan\n",
        "np.nan == np.nan\n",
        "np.inf > np.nan\n",
        "np.nan - np.nan\n",
        "0.3 == 3 * 0.1\n",
        "```"
      ]
    },
    {
      "cell_type": "code",
      "execution_count": 31,
      "metadata": {
        "id": "1UvVWSsEBe7u",
        "colab": {
          "base_uri": "https://localhost:8080/"
        },
        "outputId": "cc5415a4-6e76-479b-f1a3-42bc03b228cc"
      },
      "outputs": [
        {
          "output_type": "stream",
          "name": "stdout",
          "text": [
            "nan\n",
            "False\n",
            "False\n",
            "nan\n",
            "False\n"
          ]
        }
      ],
      "source": [
        "print(0 * np.nan)\n",
        "print(np.nan == np.nan)\n",
        "print(np.inf > np.nan)\n",
        "print(np.nan - np.nan)\n",
        "print(0.3 == 3 * 0.1)"
      ]
    },
    {
      "cell_type": "markdown",
      "metadata": {
        "id": "M0Tl4TU6Be7u"
      },
      "source": [
        "#### 18. Create a 5x5 matrix with values 1,2,3,4 just below the diagonal (★☆☆) \n",
        "(**hint**: np.diag)"
      ]
    },
    {
      "cell_type": "code",
      "execution_count": 32,
      "metadata": {
        "id": "E3yevEa9Be7v",
        "colab": {
          "base_uri": "https://localhost:8080/"
        },
        "outputId": "6a5c556e-16ae-4837-9759-07e5a03c980f"
      },
      "outputs": [
        {
          "output_type": "stream",
          "name": "stdout",
          "text": [
            "[[0 0 0 0 0]\n",
            " [1 0 0 0 0]\n",
            " [0 2 0 0 0]\n",
            " [0 0 3 0 0]\n",
            " [0 0 0 4 0]]\n"
          ]
        }
      ],
      "source": [
        "a = np.diag(1+np.arange(4), k = -1)\n",
        "print (a)"
      ]
    },
    {
      "cell_type": "markdown",
      "metadata": {
        "id": "tUVApUZQBe7v"
      },
      "source": [
        "#### 19. Create a 8x8 matrix and fill it with a checkerboard pattern (★☆☆) \n",
        "(**hint**: array\\[::2\\])"
      ]
    },
    {
      "cell_type": "code",
      "execution_count": 33,
      "metadata": {
        "id": "JYkeeSiBBe7v",
        "colab": {
          "base_uri": "https://localhost:8080/"
        },
        "outputId": "5340eede-406c-48bb-d50f-3ac5f3d625d8"
      },
      "outputs": [
        {
          "output_type": "stream",
          "name": "stdout",
          "text": [
            "[[0 1 0 1 0 1 0 1]\n",
            " [1 0 1 0 1 0 1 0]\n",
            " [0 1 0 1 0 1 0 1]\n",
            " [1 0 1 0 1 0 1 0]\n",
            " [0 1 0 1 0 1 0 1]\n",
            " [1 0 1 0 1 0 1 0]\n",
            " [0 1 0 1 0 1 0 1]\n",
            " [1 0 1 0 1 0 1 0]]\n"
          ]
        }
      ],
      "source": [
        "a = np.zeros ((8,8), dtype=int)\n",
        "a[1::2, ::2]= 1\n",
        "a[::2, 1::2] = 1\n",
        "print (a)"
      ]
    },
    {
      "cell_type": "markdown",
      "metadata": {
        "id": "8R1WvV94Be7w"
      },
      "source": [
        "#### 20. Consider a (6,7,8) shape array, what is the index (x,y,z) of the 100th element? \n",
        "(**hint**: np.unravel_index)"
      ]
    },
    {
      "cell_type": "code",
      "execution_count": 34,
      "metadata": {
        "id": "9gGeSj21Be7y",
        "colab": {
          "base_uri": "https://localhost:8080/"
        },
        "outputId": "4d37c0c7-2514-4a80-d4c4-a60e4b7ef3d0"
      },
      "outputs": [
        {
          "output_type": "stream",
          "name": "stdout",
          "text": [
            "(1, 5, 4)\n"
          ]
        }
      ],
      "source": [
        "print (np.unravel_index(100, (6,7,8)))"
      ]
    },
    {
      "cell_type": "markdown",
      "metadata": {
        "id": "38O6LFTYBe7y"
      },
      "source": [
        "#### 21. Create a checkerboard 8x8 matrix using the tile function (★☆☆) \n",
        "(**hint**: np.tile)"
      ]
    },
    {
      "cell_type": "code",
      "execution_count": 35,
      "metadata": {
        "id": "I9w6hmqzBe7y",
        "colab": {
          "base_uri": "https://localhost:8080/"
        },
        "outputId": "3b76d158-dba7-4302-fdfe-6fed1257fed2"
      },
      "outputs": [
        {
          "output_type": "stream",
          "name": "stdout",
          "text": [
            "[[0 1 0 1 0 1 0 1]\n",
            " [1 0 1 0 1 0 1 0]\n",
            " [0 1 0 1 0 1 0 1]\n",
            " [1 0 1 0 1 0 1 0]\n",
            " [0 1 0 1 0 1 0 1]\n",
            " [1 0 1 0 1 0 1 0]\n",
            " [0 1 0 1 0 1 0 1]\n",
            " [1 0 1 0 1 0 1 0]]\n"
          ]
        }
      ],
      "source": [
        "array= np.array([[0,1], [1,0]])\n",
        "a = np.tile(array,(4,4))\n",
        "print (a)"
      ]
    },
    {
      "cell_type": "markdown",
      "metadata": {
        "id": "3C9Z3mbxBe7y"
      },
      "source": [
        "#### 22. Normalize a 5x5 random matrix (★☆☆) \n",
        "(**hint**: (x - min) / (max - min))"
      ]
    },
    {
      "cell_type": "code",
      "execution_count": 36,
      "metadata": {
        "id": "oksVbxO3Be7z",
        "colab": {
          "base_uri": "https://localhost:8080/"
        },
        "outputId": "5725977e-04fb-4a9a-acd0-d61e58ee0abb"
      },
      "outputs": [
        {
          "output_type": "stream",
          "name": "stdout",
          "text": [
            "[[0.19846331 1.         0.31963902 0.56185584 0.79624243]\n",
            " [0.40038485 0.09098084 0.54975693 0.71295347 0.50614888]\n",
            " [0.         0.77262584 0.70207936 0.17801274 0.6047674 ]\n",
            " [0.83979846 0.3212484  0.70174927 0.18043994 0.17517656]\n",
            " [0.38078297 0.59353445 0.92968681 0.37664805 0.51015714]]\n"
          ]
        }
      ],
      "source": [
        "a = np.random.random((5,5))\n",
        "amax, amin = a.max(), a.min()\n",
        "a= (a-amin)/(amax-amin)\n",
        "print (a)"
      ]
    },
    {
      "cell_type": "markdown",
      "metadata": {
        "id": "YbPr5jleBe7z"
      },
      "source": [
        "#### 23. Create a custom dtype that describes a color as four unsigned bytes (RGBA) (★☆☆) \n",
        "(**hint**: np.dtype)"
      ]
    },
    {
      "cell_type": "code",
      "execution_count": 37,
      "metadata": {
        "collapsed": true,
        "id": "1rYuYyKFBe7z",
        "colab": {
          "base_uri": "https://localhost:8080/"
        },
        "outputId": "a7cf4c8f-83c3-4cdf-fb88-8eb7d3563712"
      },
      "outputs": [
        {
          "output_type": "stream",
          "name": "stderr",
          "text": [
            "/usr/local/lib/python3.7/dist-packages/ipykernel_launcher.py:4: FutureWarning: Passing (type, 1) or '1type' as a synonym of type is deprecated; in a future version of numpy, it will be understood as (type, (1,)) / '(1,)type'.\n",
            "  after removing the cwd from sys.path.\n"
          ]
        }
      ],
      "source": [
        "color = np.dtype([(\"r\", np.ubyte, 1),\n",
        "                  (\"g\", np.ubyte, 1),\n",
        "                  (\"b\", np.ubyte, 1),\n",
        "                  (\"a\", np.ubyte, 1)])"
      ]
    },
    {
      "cell_type": "markdown",
      "metadata": {
        "id": "BDoSEyBoBe7z"
      },
      "source": [
        "#### 24. Multiply a 5x3 matrix by a 3x2 matrix (real matrix product) (★☆☆) \n",
        "(**hint**: np.dot | @)"
      ]
    },
    {
      "cell_type": "code",
      "execution_count": 39,
      "metadata": {
        "id": "cYBsgrVtBe70",
        "colab": {
          "base_uri": "https://localhost:8080/"
        },
        "outputId": "c89282ff-756c-4460-d526-ae188396fd3f"
      },
      "outputs": [
        {
          "output_type": "stream",
          "name": "stdout",
          "text": [
            "[[3. 3.]\n",
            " [3. 3.]\n",
            " [3. 3.]\n",
            " [3. 3.]\n",
            " [3. 3.]]\n"
          ]
        }
      ],
      "source": [
        "a = np.dot(np.ones((5,3)), np.ones((3,2)))\n",
        "print(a)"
      ]
    },
    {
      "cell_type": "markdown",
      "metadata": {
        "id": "4477iI9EBe70"
      },
      "source": [
        "#### 25. Given a 1D array, negate all elements which are between 3 and 8, in place. (★☆☆) \n",
        "(**hint**: >, <=)"
      ]
    },
    {
      "cell_type": "code",
      "execution_count": 40,
      "metadata": {
        "id": "aHp0QZWEBe70",
        "colab": {
          "base_uri": "https://localhost:8080/"
        },
        "outputId": "de04d64c-5a25-4747-a591-d60dbbb115a0"
      },
      "outputs": [
        {
          "output_type": "stream",
          "name": "stdout",
          "text": [
            "[ 0  1  2  3 -4 -5 -6 -7 -8  9 10]\n"
          ]
        }
      ],
      "source": [
        "a = np.arange(11)\n",
        "a[(3 < a) & (a <= 8)] *= -1\n",
        "print(a)"
      ]
    },
    {
      "cell_type": "markdown",
      "metadata": {
        "id": "184X-wKJBe71"
      },
      "source": [
        "#### 26. What is the output of the following script? (★☆☆) \n",
        "(**hint**: np.sum)"
      ]
    },
    {
      "cell_type": "markdown",
      "metadata": {
        "id": "b23KSJ7xBe71"
      },
      "source": [
        "```python\n",
        "# Author: Jake VanderPlas\n",
        "\n",
        "print(sum(range(5),-1))\n",
        "from numpy import *\n",
        "print(sum(range(5),-1))\n",
        "```"
      ]
    },
    {
      "cell_type": "code",
      "execution_count": 41,
      "metadata": {
        "id": "jYqe4SxjBe71",
        "colab": {
          "base_uri": "https://localhost:8080/"
        },
        "outputId": "948d00ca-b1da-4b40-a7bb-8c6e3cc1dfe2"
      },
      "outputs": [
        {
          "output_type": "stream",
          "name": "stdout",
          "text": [
            "9\n",
            "10\n"
          ]
        }
      ],
      "source": [
        "# Author: Jake VanderPlas\n",
        "\n",
        "print(sum(range(5),-1))\n",
        "from numpy import *\n",
        "print(sum(range(5),-1))"
      ]
    },
    {
      "cell_type": "markdown",
      "metadata": {
        "id": "Wy8yV4B3Be71"
      },
      "source": [
        "#### 27. Consider an integer vector Z, which of these expressions are legal? (★☆☆)"
      ]
    },
    {
      "cell_type": "markdown",
      "metadata": {
        "id": "hqA5Cp1ZBe72"
      },
      "source": [
        "```python\n",
        "Z**Z\n",
        "2 << Z >> 2\n",
        "Z <- Z\n",
        "1j*Z\n",
        "Z/1/1\n",
        "Z<Z>Z\n",
        "```"
      ]
    },
    {
      "cell_type": "code",
      "execution_count": 43,
      "metadata": {
        "id": "DnRjcDHRBe72",
        "colab": {
          "base_uri": "https://localhost:8080/",
          "height": 339
        },
        "outputId": "12315e49-f356-4507-dd1d-9495576714d8"
      },
      "outputs": [
        {
          "output_type": "stream",
          "name": "stdout",
          "text": [
            "[[27. 27.]\n",
            " [27. 27.]\n",
            " [27. 27.]\n",
            " [27. 27.]\n",
            " [27. 27.]]\n"
          ]
        },
        {
          "output_type": "error",
          "ename": "TypeError",
          "evalue": "ignored",
          "traceback": [
            "\u001b[0;31m---------------------------------------------------------------------------\u001b[0m",
            "\u001b[0;31mTypeError\u001b[0m                                 Traceback (most recent call last)",
            "\u001b[0;32m<ipython-input-43-6114e943f179>\u001b[0m in \u001b[0;36m<module>\u001b[0;34m()\u001b[0m\n\u001b[1;32m      1\u001b[0m \u001b[0mprint\u001b[0m\u001b[0;34m(\u001b[0m\u001b[0mZ\u001b[0m\u001b[0;34m**\u001b[0m\u001b[0mZ\u001b[0m\u001b[0;34m)\u001b[0m\u001b[0;34m\u001b[0m\u001b[0;34m\u001b[0m\u001b[0m\n\u001b[0;32m----> 2\u001b[0;31m \u001b[0mprint\u001b[0m\u001b[0;34m(\u001b[0m\u001b[0;36m2\u001b[0m \u001b[0;34m<<\u001b[0m \u001b[0mZ\u001b[0m \u001b[0;34m>>\u001b[0m \u001b[0;36m2\u001b[0m\u001b[0;34m)\u001b[0m\u001b[0;34m\u001b[0m\u001b[0;34m\u001b[0m\u001b[0m\n\u001b[0m\u001b[1;32m      3\u001b[0m \u001b[0mprint\u001b[0m\u001b[0;34m(\u001b[0m\u001b[0mZ\u001b[0m \u001b[0;34m<\u001b[0m\u001b[0;34m-\u001b[0m \u001b[0mZ\u001b[0m\u001b[0;34m)\u001b[0m\u001b[0;34m\u001b[0m\u001b[0;34m\u001b[0m\u001b[0m\n\u001b[1;32m      4\u001b[0m \u001b[0mprint\u001b[0m\u001b[0;34m(\u001b[0m\u001b[0;36m1j\u001b[0m\u001b[0;34m*\u001b[0m\u001b[0mZ\u001b[0m\u001b[0;34m)\u001b[0m\u001b[0;34m\u001b[0m\u001b[0;34m\u001b[0m\u001b[0m\n\u001b[1;32m      5\u001b[0m \u001b[0mprint\u001b[0m\u001b[0;34m(\u001b[0m\u001b[0mZ\u001b[0m\u001b[0;34m/\u001b[0m\u001b[0;36m1\u001b[0m\u001b[0;34m/\u001b[0m\u001b[0;36m1\u001b[0m\u001b[0;34m)\u001b[0m\u001b[0;34m\u001b[0m\u001b[0;34m\u001b[0m\u001b[0m\n",
            "\u001b[0;31mTypeError\u001b[0m: ufunc 'left_shift' not supported for the input types, and the inputs could not be safely coerced to any supported types according to the casting rule ''safe''"
          ]
        }
      ],
      "source": [
        "print(Z**Z)\n",
        "print(2 << Z >> 2)\n",
        "print(Z <- Z)\n",
        "print(1j*Z)\n",
        "print(Z/1/1)\n",
        "print(Z<Z>Z)"
      ]
    },
    {
      "cell_type": "markdown",
      "metadata": {
        "id": "NUXfcNIyBe72"
      },
      "source": [
        "#### 28. What are the result of the following expressions?"
      ]
    },
    {
      "cell_type": "markdown",
      "metadata": {
        "id": "cB4a_f4XBe73"
      },
      "source": [
        "```python\n",
        "np.array(0) / np.array(0)\n",
        "np.array(0) // np.array(0)\n",
        "np.array([np.nan]).astype(int).astype(float)\n",
        "```"
      ]
    },
    {
      "cell_type": "code",
      "execution_count": 44,
      "metadata": {
        "id": "BxzBpv_8Be73",
        "colab": {
          "base_uri": "https://localhost:8080/"
        },
        "outputId": "c89ab3fb-37c7-4808-b9c7-ab5cb6483628"
      },
      "outputs": [
        {
          "output_type": "stream",
          "name": "stdout",
          "text": [
            "nan\n",
            "0\n",
            "[-9.22337204e+18]\n"
          ]
        },
        {
          "output_type": "stream",
          "name": "stderr",
          "text": [
            "/usr/local/lib/python3.7/dist-packages/ipykernel_launcher.py:1: RuntimeWarning: invalid value encountered in true_divide\n",
            "  \"\"\"Entry point for launching an IPython kernel.\n",
            "/usr/local/lib/python3.7/dist-packages/ipykernel_launcher.py:2: RuntimeWarning: divide by zero encountered in floor_divide\n",
            "  \n"
          ]
        }
      ],
      "source": [
        "print(np.array(0) / np.array(0))\n",
        "print(np.array(0) // np.array(0))\n",
        "print(np.array([np.nan]).astype(int).astype(float))"
      ]
    },
    {
      "cell_type": "markdown",
      "metadata": {
        "id": "RZih5OskBe73"
      },
      "source": [
        "#### 29. How to round away from zero a float array ? (★☆☆) \n",
        "(**hint**: np.uniform, np.copysign, np.ceil, np.abs)"
      ]
    },
    {
      "cell_type": "markdown",
      "source": [
        "a = np.uniform(-10,+10,10)\n",
        "print (np.copysign(np.ceil(np.abs(a)), a))"
      ],
      "metadata": {
        "id": "G5uHiNV8Be73"
      }
    },
    {
      "cell_type": "code",
      "source": [
        "Z = np.random.uniform(-10,+10,10)\n",
        "print (np.copysign(np.ceil(np.abs(Z)), Z))"
      ],
      "metadata": {
        "colab": {
          "base_uri": "https://localhost:8080/"
        },
        "id": "fScgJuc7KaI0",
        "outputId": "a5565e02-19c1-4239-dd5f-d0f49399d769"
      },
      "execution_count": 47,
      "outputs": [
        {
          "output_type": "stream",
          "name": "stdout",
          "text": [
            "[ 6.  5. -1.  6. -2.  1.  2.  3.  6. -2.]\n"
          ]
        }
      ]
    },
    {
      "cell_type": "markdown",
      "metadata": {
        "id": "6dDayBTaBe73"
      },
      "source": [
        "#### 30. How to find common values between two arrays? (★☆☆) \n",
        "(**hint**: np.intersect1d)"
      ]
    },
    {
      "cell_type": "code",
      "execution_count": 49,
      "metadata": {
        "id": "E1qHa9qlBe74",
        "colab": {
          "base_uri": "https://localhost:8080/"
        },
        "outputId": "925c5960-2bee-4199-d8a3-595c17b6549e"
      },
      "outputs": [
        {
          "output_type": "stream",
          "name": "stdout",
          "text": [
            "[0 2 9]\n"
          ]
        }
      ],
      "source": [
        "Z1 = np.random.randint(0,10,10)\n",
        "Z2 = np.random.randint(0,10,10)\n",
        "print(np.intersect1d(Z1,Z2))"
      ]
    },
    {
      "cell_type": "markdown",
      "metadata": {
        "id": "Op8kbCfABe74"
      },
      "source": [
        "#### 31. How to ignore all numpy warnings (not recommended)? (★☆☆) \n",
        "(**hint**: np.seterr, np.errstate)"
      ]
    },
    {
      "cell_type": "code",
      "execution_count": 50,
      "metadata": {
        "id": "0KeltXhZBe74"
      },
      "outputs": [],
      "source": [
        "\n",
        "defaults = np.seterr(all=\"ignore\")\n",
        "a = np.ones(1) / 0\n",
        "\n",
        "_ = np.seterr(**defaults)"
      ]
    },
    {
      "cell_type": "markdown",
      "metadata": {
        "id": "Gjkhwi-rBe74"
      },
      "source": [
        "#### 32. Is the following expressions true? (★☆☆) \n",
        "(**hint**: imaginary number)"
      ]
    },
    {
      "cell_type": "markdown",
      "metadata": {
        "id": "R1Ro3AXuBe75"
      },
      "source": [
        "```python\n",
        "np.sqrt(-1) == np.emath.sqrt(-1)\n",
        "```"
      ]
    },
    {
      "cell_type": "code",
      "execution_count": 51,
      "metadata": {
        "id": "hbge6M8QBe75",
        "colab": {
          "base_uri": "https://localhost:8080/"
        },
        "outputId": "0d1a6872-b356-4809-a9b2-56a6e8d04571"
      },
      "outputs": [
        {
          "output_type": "stream",
          "name": "stderr",
          "text": [
            "/usr/local/lib/python3.7/dist-packages/ipykernel_launcher.py:1: RuntimeWarning: invalid value encountered in sqrt\n",
            "  \"\"\"Entry point for launching an IPython kernel.\n"
          ]
        },
        {
          "output_type": "execute_result",
          "data": {
            "text/plain": [
              "False"
            ]
          },
          "metadata": {},
          "execution_count": 51
        }
      ],
      "source": [
        "np.sqrt(-1) == np.emath.sqrt(-1)"
      ]
    },
    {
      "cell_type": "markdown",
      "metadata": {
        "id": "WdF1FwfNBe75"
      },
      "source": [
        "#### 33. How to get the dates of yesterday, today and tomorrow? (★☆☆) \n",
        "(**hint**: np.datetime64, np.timedelta64)"
      ]
    },
    {
      "cell_type": "code",
      "source": [
        "yesterday = np.datetime64('today', 'D') - np.timedelta64(1, 'D')\n",
        "today     = np.datetime64('today', 'D')\n",
        "tomorrow  = np.datetime64('today', 'D') + np.timedelta64(1, 'D')\n",
        "print(yesterday)\n",
        "print(today)\n",
        "print(tomorrow)"
      ],
      "metadata": {
        "colab": {
          "base_uri": "https://localhost:8080/"
        },
        "id": "xORxYGWdRA6N",
        "outputId": "93a8f3c9-4524-46b6-b1c8-bb5ed5ab7f38"
      },
      "execution_count": 57,
      "outputs": [
        {
          "output_type": "stream",
          "name": "stdout",
          "text": [
            "2022-04-09\n",
            "2022-04-10\n",
            "2022-04-11\n"
          ]
        }
      ]
    },
    {
      "cell_type": "markdown",
      "metadata": {
        "id": "W4vhIz6GBe75"
      },
      "source": [
        "#### 34. How to get all the dates corresponding to the month of July 2016? (★★☆) \n",
        "(**hint**: np.arange(dtype=datetime64\\['D'\\]))"
      ]
    },
    {
      "cell_type": "code",
      "execution_count": 58,
      "metadata": {
        "id": "ZOa_5FQqBe76",
        "colab": {
          "base_uri": "https://localhost:8080/"
        },
        "outputId": "5b6cdae0-0bee-4bdb-8323-72b9ad046264"
      },
      "outputs": [
        {
          "output_type": "stream",
          "name": "stdout",
          "text": [
            "['2016-07-01' '2016-07-02' '2016-07-03' '2016-07-04' '2016-07-05'\n",
            " '2016-07-06' '2016-07-07' '2016-07-08' '2016-07-09' '2016-07-10'\n",
            " '2016-07-11' '2016-07-12' '2016-07-13' '2016-07-14' '2016-07-15'\n",
            " '2016-07-16' '2016-07-17' '2016-07-18' '2016-07-19' '2016-07-20'\n",
            " '2016-07-21' '2016-07-22' '2016-07-23' '2016-07-24' '2016-07-25'\n",
            " '2016-07-26' '2016-07-27' '2016-07-28' '2016-07-29' '2016-07-30'\n",
            " '2016-07-31']\n"
          ]
        }
      ],
      "source": [
        "a = np.arange('2016-07', '2016-08', dtype='datetime64[D]')\n",
        "print(a)"
      ]
    },
    {
      "cell_type": "markdown",
      "metadata": {
        "id": "UHL49IiVBe76"
      },
      "source": [
        "#### 35. How to compute ((A+B)\\*(-A/2)) in place (without copy)? (★★☆) \n",
        "(**hint**: np.add(out=), np.negative(out=), np.multiply(out=), np.divide(out=))"
      ]
    },
    {
      "cell_type": "code",
      "execution_count": 59,
      "metadata": {
        "id": "DHkCEPiLBe76",
        "colab": {
          "base_uri": "https://localhost:8080/"
        },
        "outputId": "71db22bf-9854-4e90-d947-85073e836b1f"
      },
      "outputs": [
        {
          "output_type": "execute_result",
          "data": {
            "text/plain": [
              "array([-1.5, -1.5, -1.5])"
            ]
          },
          "metadata": {},
          "execution_count": 59
        }
      ],
      "source": [
        "A = np.ones(3)*1\n",
        "B = np.ones(3)*2\n",
        "C = np.ones(3)*3\n",
        "np.add(A,B,out=B)\n",
        "np.divide(A,2,out=A)\n",
        "np.negative(A,out=A)\n",
        "np.multiply(A,B,out=A)"
      ]
    },
    {
      "cell_type": "markdown",
      "metadata": {
        "id": "1K9l5PzlBe76"
      },
      "source": [
        "#### 36. Extract the integer part of a random array using 5 different methods (★★☆) \n",
        "(**hint**: %, np.floor, np.ceil, astype, np.trunc)"
      ]
    },
    {
      "cell_type": "code",
      "execution_count": 62,
      "metadata": {
        "id": "d_M5YquJBe77",
        "colab": {
          "base_uri": "https://localhost:8080/"
        },
        "outputId": "b70ece31-d311-4642-fb7a-7d2fce07c440"
      },
      "outputs": [
        {
          "output_type": "stream",
          "name": "stdout",
          "text": [
            "[2. 5. 2. 0. 6. 9. 4. 7. 4. 5.]\n",
            "[2. 5. 2. 0. 6. 9. 4. 7. 4. 5.]\n",
            "[2. 5. 2. 0. 6. 9. 4. 7. 4. 5.]\n",
            "[2 5 2 0 6 9 4 7 4 5]\n",
            "[2. 5. 2. 0. 6. 9. 4. 7. 4. 5.]\n"
          ]
        }
      ],
      "source": [
        "a = np.random.uniform(0,10,10)\n",
        "\n",
        "print (a - a%1)\n",
        "print (np.floor(a))\n",
        "print (np.ceil(a)-1)\n",
        "print (a.astype(int))\n",
        "print (np.trunc(a))"
      ]
    },
    {
      "cell_type": "markdown",
      "metadata": {
        "id": "AO6psPHOBe77"
      },
      "source": [
        "#### 37. Create a 5x5 matrix with row values ranging from 0 to 4 (★★☆) \n",
        "(**hint**: np.arange)"
      ]
    },
    {
      "cell_type": "code",
      "execution_count": 61,
      "metadata": {
        "id": "gdid3_geBe77",
        "colab": {
          "base_uri": "https://localhost:8080/"
        },
        "outputId": "9f38cf01-79de-4063-cd80-f4cbf756959a"
      },
      "outputs": [
        {
          "output_type": "stream",
          "name": "stdout",
          "text": [
            "[[0. 1. 2. 3. 4.]\n",
            " [0. 1. 2. 3. 4.]\n",
            " [0. 1. 2. 3. 4.]\n",
            " [0. 1. 2. 3. 4.]\n",
            " [0. 1. 2. 3. 4.]]\n"
          ]
        }
      ],
      "source": [
        "a = np.zeros((5,5))\n",
        "a += np.arange(5)\n",
        "print(a)"
      ]
    },
    {
      "cell_type": "markdown",
      "metadata": {
        "id": "U8sTP2XVBe77"
      },
      "source": [
        "#### 38. Consider a generator function that generates 10 integers and use it to build an array (★☆☆) \n",
        "(**hint**: np.fromiter)"
      ]
    },
    {
      "cell_type": "code",
      "execution_count": 63,
      "metadata": {
        "id": "ACCHQv5CBe78",
        "colab": {
          "base_uri": "https://localhost:8080/"
        },
        "outputId": "32429d51-75f8-4955-ccc8-6e1a26a89cf3"
      },
      "outputs": [
        {
          "output_type": "stream",
          "name": "stdout",
          "text": [
            "[0. 1. 2. 3. 4. 5. 6. 7. 8. 9.]\n"
          ]
        }
      ],
      "source": [
        "def generate():\n",
        "    for b in range(10):\n",
        "        yield b\n",
        "a = np.fromiter(generate(),dtype=float,count=-1)\n",
        "print(a)"
      ]
    },
    {
      "cell_type": "markdown",
      "metadata": {
        "id": "znMUt2vUBe78"
      },
      "source": [
        "#### 39. Create a vector of size 10 with values ranging from 0 to 1, both excluded (★★☆) \n",
        "(**hint**: np.linspace)"
      ]
    },
    {
      "cell_type": "code",
      "execution_count": 64,
      "metadata": {
        "id": "SvGIvzm-Be78",
        "colab": {
          "base_uri": "https://localhost:8080/"
        },
        "outputId": "06d0fc10-5db4-4f62-f87c-a511b890f11f"
      },
      "outputs": [
        {
          "output_type": "stream",
          "name": "stdout",
          "text": [
            "[0.09090909 0.18181818 0.27272727 0.36363636 0.45454545 0.54545455\n",
            " 0.63636364 0.72727273 0.81818182 0.90909091]\n"
          ]
        }
      ],
      "source": [
        "a = np.linspace(0,1,11,endpoint=False)[1:]\n",
        "print(a)"
      ]
    },
    {
      "cell_type": "markdown",
      "metadata": {
        "id": "Ezbr2JmWBe78"
      },
      "source": [
        "#### 40. Create a random vector of size 10 and sort it (★★☆) \n",
        "(**hint**: sort)"
      ]
    },
    {
      "cell_type": "code",
      "execution_count": 65,
      "metadata": {
        "id": "oydT14SPBe78",
        "colab": {
          "base_uri": "https://localhost:8080/"
        },
        "outputId": "88ee5058-1483-4552-8e05-f2958ba759cb"
      },
      "outputs": [
        {
          "output_type": "stream",
          "name": "stdout",
          "text": [
            "[0.05013875 0.06203441 0.15519851 0.37176567 0.51649521 0.51825723\n",
            " 0.53682282 0.64221317 0.86979769 0.95088985]\n"
          ]
        }
      ],
      "source": [
        "a = np.random.random(10)\n",
        "a.sort()\n",
        "print(a)"
      ]
    },
    {
      "cell_type": "markdown",
      "metadata": {
        "id": "re-fTuXpBe79"
      },
      "source": [
        "#### 41. How to sum a small array faster than np.sum? (★★☆) \n",
        "(**hint**: np.add.reduce)"
      ]
    },
    {
      "cell_type": "code",
      "execution_count": 66,
      "metadata": {
        "id": "dVrroSE2Be79",
        "colab": {
          "base_uri": "https://localhost:8080/"
        },
        "outputId": "500f9905-7767-4d0c-e995-a51ca7718c6f"
      },
      "outputs": [
        {
          "output_type": "execute_result",
          "data": {
            "text/plain": [
              "45"
            ]
          },
          "metadata": {},
          "execution_count": 66
        }
      ],
      "source": [
        "a = np.arange(10)\n",
        "np.add.reduce(a)"
      ]
    },
    {
      "cell_type": "markdown",
      "metadata": {
        "id": "GIUByiFcBe79"
      },
      "source": [
        "#### 42. Consider two random array A and B, check if they are equal (★★☆) \n",
        "(**hint**: np.allclose, np.array\\_equal)"
      ]
    },
    {
      "cell_type": "code",
      "execution_count": 67,
      "metadata": {
        "id": "i9E3rrhsBe79",
        "colab": {
          "base_uri": "https://localhost:8080/"
        },
        "outputId": "a4aaedb2-0300-4800-8aa0-72b080645804"
      },
      "outputs": [
        {
          "output_type": "stream",
          "name": "stdout",
          "text": [
            "False\n",
            "False\n"
          ]
        }
      ],
      "source": [
        "A = np.random.randint(0,2,5)\n",
        "B = np.random.randint(0,2,5)\n",
        "equal = np.allclose(A,B)\n",
        "print(equal)\n",
        "equal = np.array_equal(A,B)\n",
        "print(equal)"
      ]
    },
    {
      "cell_type": "markdown",
      "metadata": {
        "id": "h1DWe2X5Be7-"
      },
      "source": [
        "#### 43. Make an array immutable (read-only) (★★☆) \n",
        "(**hint**: flags.writeable)"
      ]
    },
    {
      "cell_type": "code",
      "execution_count": 74,
      "metadata": {
        "id": "dl6Z5xw7Be7-",
        "colab": {
          "base_uri": "https://localhost:8080/"
        },
        "outputId": "1c3c9ffe-1e07-4401-bfc8-30c844dc9b4c"
      },
      "outputs": [
        {
          "output_type": "stream",
          "name": "stdout",
          "text": [
            "[1. 0. 0. 0. 0. 0. 0. 0. 0. 0.]\n"
          ]
        }
      ],
      "source": [
        "Z = np.zeros(10)\n",
        "Z.flags.writeable = True\n",
        "Z[0] = 1\n",
        "print(Z)"
      ]
    },
    {
      "cell_type": "markdown",
      "metadata": {
        "id": "netzGcqbBe7-"
      },
      "source": [
        "#### 44. Consider a random 10x2 matrix representing cartesian coordinates, convert them to polar coordinates (★★☆) \n",
        "(**hint**: np.sqrt, np.arctan2)"
      ]
    },
    {
      "cell_type": "code",
      "execution_count": 75,
      "metadata": {
        "id": "3pwIGS_sBe7-",
        "colab": {
          "base_uri": "https://localhost:8080/"
        },
        "outputId": "95150953-42cd-4bc5-f55f-5a3920ede01d"
      },
      "outputs": [
        {
          "output_type": "stream",
          "name": "stdout",
          "text": [
            "[0.49533513 1.24116393 0.96763955 0.94004601 0.85639745 1.04261318\n",
            " 1.13121615 0.41252734 1.01986568 0.97616728]\n",
            "[0.85268151 0.93679559 0.24121428 0.12993524 0.64959416 0.58227473\n",
            " 0.91279283 0.50119045 0.7423548  1.27879643]\n"
          ]
        }
      ],
      "source": [
        "a = np.random.random((10,2))\n",
        "X,Y = a[:,0], a[:,1]\n",
        "R = np.sqrt(X**2+Y**2)\n",
        "T = np.arctan2(Y,X)\n",
        "print(R)\n",
        "print(T)"
      ]
    },
    {
      "cell_type": "markdown",
      "metadata": {
        "id": "0WzM7kOOBe7-"
      },
      "source": [
        "#### 45. Create random vector of size 10 and replace the maximum value by 0 (★★☆) \n",
        "(**hint**: argmax)"
      ]
    },
    {
      "cell_type": "code",
      "execution_count": 76,
      "metadata": {
        "id": "KKplH6R1Be7_",
        "colab": {
          "base_uri": "https://localhost:8080/"
        },
        "outputId": "185c4331-c9f2-4c10-de15-765ec29d2a8c"
      },
      "outputs": [
        {
          "output_type": "stream",
          "name": "stdout",
          "text": [
            "[0.         0.02043138 0.09040401 0.58212817 0.47240146 0.59207643\n",
            " 0.07869315 0.18040656 0.8406233  0.17662111]\n"
          ]
        }
      ],
      "source": [
        "a = np.random.random(10)\n",
        "a[a.argmax()] = 0\n",
        "print(a)"
      ]
    },
    {
      "cell_type": "markdown",
      "metadata": {
        "id": "qAdVEgskBe7_"
      },
      "source": [
        "#### 46. Create a structured array with `x` and `y` coordinates covering the \\[0,1\\]x\\[0,1\\] area (★★☆) \n",
        "(**hint**: np.meshgrid)"
      ]
    },
    {
      "cell_type": "code",
      "execution_count": 77,
      "metadata": {
        "id": "pnc9cLjfBe7_",
        "colab": {
          "base_uri": "https://localhost:8080/"
        },
        "outputId": "c3dcd286-17fd-426d-e95c-1190a0f51121"
      },
      "outputs": [
        {
          "output_type": "stream",
          "name": "stdout",
          "text": [
            "[[(0.  , 0.  ) (0.25, 0.  ) (0.5 , 0.  ) (0.75, 0.  ) (1.  , 0.  )]\n",
            " [(0.  , 0.25) (0.25, 0.25) (0.5 , 0.25) (0.75, 0.25) (1.  , 0.25)]\n",
            " [(0.  , 0.5 ) (0.25, 0.5 ) (0.5 , 0.5 ) (0.75, 0.5 ) (1.  , 0.5 )]\n",
            " [(0.  , 0.75) (0.25, 0.75) (0.5 , 0.75) (0.75, 0.75) (1.  , 0.75)]\n",
            " [(0.  , 1.  ) (0.25, 1.  ) (0.5 , 1.  ) (0.75, 1.  ) (1.  , 1.  )]]\n"
          ]
        }
      ],
      "source": [
        "a = np.zeros((5,5), [('x',float),('y',float)])\n",
        "a['x'], a['y'] = np.meshgrid(np.linspace(0,1,5),\n",
        "                             np.linspace(0,1,5))\n",
        "print(a)"
      ]
    },
    {
      "cell_type": "markdown",
      "metadata": {
        "id": "r4OooV7TBe7_"
      },
      "source": [
        "####  47. Given two arrays, X and Y, construct the Cauchy matrix C (Cij =1/(xi - yj)) \n",
        "(**hint**: np.subtract.outer)"
      ]
    },
    {
      "cell_type": "code",
      "execution_count": 78,
      "metadata": {
        "id": "ePaR4kqdBe8A",
        "colab": {
          "base_uri": "https://localhost:8080/"
        },
        "outputId": "fa687be8-677a-449b-93f5-03ba266bc9df"
      },
      "outputs": [
        {
          "output_type": "stream",
          "name": "stdout",
          "text": [
            "3638.163637117973\n"
          ]
        }
      ],
      "source": [
        "X = np.arange(8)\n",
        "Y = X + 0.5\n",
        "C = 1.0 / np.subtract.outer(X, Y)\n",
        "print(np.linalg.det(C))"
      ]
    },
    {
      "cell_type": "markdown",
      "metadata": {
        "id": "gmI7-vcUBe8A"
      },
      "source": [
        "#### 48. Print the minimum and maximum representable value for each numpy scalar type (★★☆) \n",
        "(**hint**: np.iinfo, np.finfo, eps)"
      ]
    },
    {
      "cell_type": "code",
      "execution_count": 79,
      "metadata": {
        "id": "8k3ItZIGBe8A",
        "colab": {
          "base_uri": "https://localhost:8080/"
        },
        "outputId": "c898ccc0-9b8e-4843-94f6-dfe7f8a4c5ac"
      },
      "outputs": [
        {
          "output_type": "stream",
          "name": "stdout",
          "text": [
            "-128\n",
            "127\n",
            "-2147483648\n",
            "2147483647\n",
            "-9223372036854775808\n",
            "9223372036854775807\n",
            "-3.4028235e+38\n",
            "3.4028235e+38\n",
            "1.1920929e-07\n",
            "-1.7976931348623157e+308\n",
            "1.7976931348623157e+308\n",
            "2.220446049250313e-16\n"
          ]
        }
      ],
      "source": [
        "for dtype in [np.int8, np.int32, np.int64]:\n",
        "   print(np.iinfo(dtype).min)\n",
        "   print(np.iinfo(dtype).max)\n",
        "for dtype in [np.float32, np.float64]:\n",
        "   print(np.finfo(dtype).min)\n",
        "   print(np.finfo(dtype).max)\n",
        "   print(np.finfo(dtype).eps)"
      ]
    },
    {
      "cell_type": "markdown",
      "metadata": {
        "id": "grPfymc1Be8A"
      },
      "source": [
        "#### 49. How to print all the values of an array? (★★☆) \n",
        "(**hint**: np.set\\_printoptions)"
      ]
    },
    {
      "cell_type": "code",
      "execution_count": null,
      "metadata": {
        "id": "CKnftMLeBe8A"
      },
      "outputs": [],
      "source": [
        "a=np.set_printoptions(threshold=np.nan)\n",
        "a = np.zeros((10,10))\n",
        "print(a)"
      ]
    },
    {
      "cell_type": "markdown",
      "metadata": {
        "id": "IT6HU4ktBe8B"
      },
      "source": [
        "#### 50. How to find the closest value (to a given scalar) in a vector? (★★☆) \n",
        "(**hint**: argmin)"
      ]
    },
    {
      "cell_type": "code",
      "execution_count": 85,
      "metadata": {
        "id": "--qSslR6Be8B",
        "colab": {
          "base_uri": "https://localhost:8080/"
        },
        "outputId": "de878eb7-c54d-4af4-8f75-6ed2d33db2a6"
      },
      "outputs": [
        {
          "output_type": "stream",
          "name": "stdout",
          "text": [
            "52\n"
          ]
        }
      ],
      "source": [
        "Z = np.arange(100)\n",
        "v = np.random.uniform(0,100)\n",
        "index = (np.abs(Z-v)).argmin()\n",
        "print(Z[index])"
      ]
    },
    {
      "cell_type": "markdown",
      "metadata": {
        "id": "ffuj3uUvBe8B"
      },
      "source": [
        "#### 51. Create a structured array representing a position (x,y) and a color (r,g,b) (★★☆) \n",
        "(**hint**: dtype)"
      ]
    },
    {
      "cell_type": "code",
      "execution_count": 86,
      "metadata": {
        "id": "Rsy_fjTdBe8B",
        "colab": {
          "base_uri": "https://localhost:8080/"
        },
        "outputId": "23e40102-ef31-41d2-ef19-3c761f511d1b"
      },
      "outputs": [
        {
          "output_type": "stream",
          "name": "stdout",
          "text": [
            "[((0., 0.), (0., 0., 0.)) ((0., 0.), (0., 0., 0.))\n",
            " ((0., 0.), (0., 0., 0.)) ((0., 0.), (0., 0., 0.))\n",
            " ((0., 0.), (0., 0., 0.)) ((0., 0.), (0., 0., 0.))\n",
            " ((0., 0.), (0., 0., 0.)) ((0., 0.), (0., 0., 0.))\n",
            " ((0., 0.), (0., 0., 0.)) ((0., 0.), (0., 0., 0.))]\n"
          ]
        },
        {
          "output_type": "stream",
          "name": "stderr",
          "text": [
            "/usr/local/lib/python3.7/dist-packages/ipykernel_launcher.py:5: FutureWarning: Passing (type, 1) or '1type' as a synonym of type is deprecated; in a future version of numpy, it will be understood as (type, (1,)) / '(1,)type'.\n",
            "  \"\"\"\n"
          ]
        }
      ],
      "source": [
        "Z = np.zeros(10, [ ('position', [ ('x', float, 1),\n",
        "                                  ('y', float, 1)]),\n",
        "                   ('color',    [ ('r', float, 1),\n",
        "                                  ('g', float, 1),\n",
        "                                  ('b', float, 1)])])\n",
        "print(Z)"
      ]
    },
    {
      "cell_type": "markdown",
      "metadata": {
        "id": "BmUZACCCBe8C"
      },
      "source": [
        "#### 52. Consider a random vector with shape (100,2) representing coordinates, find point by point distances (★★☆) \n",
        "(**hint**: np.atleast\\_2d, T, np.sqrt)"
      ]
    },
    {
      "cell_type": "code",
      "execution_count": 88,
      "metadata": {
        "id": "o0am-oE-Be8C",
        "colab": {
          "base_uri": "https://localhost:8080/"
        },
        "outputId": "4a9e902d-93c5-4523-b333-5f87eccf8baf"
      },
      "outputs": [
        {
          "output_type": "stream",
          "name": "stdout",
          "text": [
            "[[0.         0.82709077 0.29757628 0.37858645 0.49360423 0.95920159\n",
            "  0.81595531 0.30458671 0.64809246 0.25017491]\n",
            " [0.82709077 0.         0.52955225 0.89460809 0.54414445 0.74001066\n",
            "  0.56231776 0.77267461 0.6344194  0.58827671]\n",
            " [0.29757628 0.52955225 0.         0.46825902 0.32029628 0.78936383\n",
            "  0.61521282 0.33833763 0.50244071 0.08090183]\n",
            " [0.37858645 0.89460809 0.46825902 0.         0.37127762 0.7079071\n",
            "  0.62588451 0.13155616 0.42282014 0.38794631]\n",
            " [0.49360423 0.54414445 0.32029628 0.37127762 0.         0.47775587\n",
            "  0.32244314 0.27458855 0.18220372 0.28639523]\n",
            " [0.95920159 0.74001066 0.78936383 0.7079071  0.47775587 0.\n",
            "  0.19142869 0.68318588 0.31133985 0.76384762]\n",
            " [0.81595531 0.56231776 0.61521282 0.62588451 0.32244314 0.19142869\n",
            "  0.         0.56930905 0.20370448 0.59986993]\n",
            " [0.30458671 0.77267461 0.33833763 0.13155616 0.27458855 0.68318588\n",
            "  0.56930905 0.         0.37646972 0.25882094]\n",
            " [0.64809246 0.6344194  0.50244071 0.42282014 0.18220372 0.31133985\n",
            "  0.20370448 0.37646972 0.         0.46439329]\n",
            " [0.25017491 0.58827671 0.08090183 0.38794631 0.28639523 0.76384762\n",
            "  0.59986993 0.25882094 0.46439329 0.        ]]\n",
            "[[0.         0.15841041 0.8444982  0.91559195 0.80267889 0.49201398\n",
            "  1.01420281 0.73131436 1.03135557 0.17135642]\n",
            " [0.15841041 0.         0.68934933 0.77867481 0.67289132 0.45371807\n",
            "  0.87082896 0.57700335 0.88716999 0.16216891]\n",
            " [0.8444982  0.68934933 0.         0.27086077 0.59298107 0.87931883\n",
            "  0.26570895 0.3216103  0.56329899 0.80004166]\n",
            " [0.91559195 0.77867481 0.27086077 0.         0.85435704 1.0724344\n",
            "  0.12337801 0.57880555 0.83214937 0.92072561]\n",
            " [0.80267889 0.67289132 0.59298107 0.85435704 0.         0.49119044\n",
            "  0.85679561 0.27574692 0.26977378 0.65490424]\n",
            " [0.49201398 0.45371807 0.87931883 1.0724344  0.49119044 0.\n",
            "  1.12747037 0.60566024 0.76090242 0.32325808]\n",
            " [1.01420281 0.87082896 0.26570895 0.12337801 0.85679561 1.12747037\n",
            "  0.         0.58724645 0.79556994 1.0046299 ]\n",
            " [0.73131436 0.57700335 0.3216103  0.57880555 0.27574692 0.60566024\n",
            "  0.58724645 0.         0.34311752 0.62755842]\n",
            " [1.03135557 0.88716999 0.56329899 0.83214937 0.26977378 0.76090242\n",
            "  0.79556994 0.34311752 0.         0.89875668]\n",
            " [0.17135642 0.16216891 0.80004166 0.92072561 0.65490424 0.32325808\n",
            "  1.0046299  0.62755842 0.89875668 0.        ]]\n"
          ]
        }
      ],
      "source": [
        "Z = np.random.random((10,2))\n",
        "X,Y = np.atleast_2d(Z[:,0], Z[:,1])\n",
        "D = np.sqrt( (X-X.T)**2 + (Y-Y.T)**2)\n",
        "print(D)\n",
        "import scipy\n",
        "import scipy.spatial\n",
        "Z = np.random.random((10,2))\n",
        "D = scipy.spatial.distance.cdist(Z,Z)\n",
        "print(D)"
      ]
    },
    {
      "cell_type": "markdown",
      "metadata": {
        "id": "R_MfcRZ3Be8C"
      },
      "source": [
        "#### 53. How to convert a float (32 bits) array into an integer (32 bits) in place? \n",
        "(**hint**: astype(copy=False))"
      ]
    },
    {
      "cell_type": "code",
      "execution_count": 89,
      "metadata": {
        "id": "1Wf7AHyCBe8C",
        "colab": {
          "base_uri": "https://localhost:8080/"
        },
        "outputId": "1c2a09a3-c1e9-48c1-b22f-9e4afe1d52b2"
      },
      "outputs": [
        {
          "output_type": "stream",
          "name": "stdout",
          "text": [
            "[0. 1. 2. 3. 4. 5. 6. 7. 8. 9.]\n"
          ]
        }
      ],
      "source": [
        "Z = np.arange(10, dtype=np.int32)\n",
        "Z = Z.astype(np.float32, copy=False)\n",
        "print(Z)"
      ]
    },
    {
      "cell_type": "markdown",
      "metadata": {
        "id": "DyQR1WMSBe8D"
      },
      "source": [
        "#### 54. How to read the following file? (★★☆) \n",
        "(**hint**: np.genfromtxt)"
      ]
    },
    {
      "cell_type": "markdown",
      "metadata": {
        "id": "FI2KSSTZBe8D"
      },
      "source": [
        "```\n",
        "1, 2, 3, 4, 5\n",
        "6,  ,  , 7, 8\n",
        " ,  , 9,10,11\n",
        "```"
      ]
    },
    {
      "cell_type": "code",
      "execution_count": 91,
      "metadata": {
        "id": "lQ7XyK-dBe8D",
        "colab": {
          "base_uri": "https://localhost:8080/"
        },
        "outputId": "a674bf5a-1d4c-4ef1-a3e5-04c453660b05"
      },
      "outputs": [
        {
          "output_type": "stream",
          "name": "stdout",
          "text": [
            "[[ 1  2  3  4  5]\n",
            " [ 6 -1 -1  7  8]\n",
            " [-1 -1  9 10 11]]\n"
          ]
        },
        {
          "output_type": "stream",
          "name": "stderr",
          "text": [
            "/usr/local/lib/python3.7/dist-packages/ipykernel_launcher.py:5: DeprecationWarning: `np.int` is a deprecated alias for the builtin `int`. To silence this warning, use `int` by itself. Doing this will not modify any behavior and is safe. When replacing `np.int`, you may wish to use e.g. `np.int64` or `np.int32` to specify the precision. If you wish to review your current use, check the release note link for additional information.\n",
            "Deprecated in NumPy 1.20; for more details and guidance: https://numpy.org/devdocs/release/1.20.0-notes.html#deprecations\n",
            "  \"\"\"\n"
          ]
        }
      ],
      "source": [
        "from io import StringIO\n",
        "s = StringIO(\"\"\"1, 2, 3, 4, 5\\n\n",
        "                6,  ,  , 7, 8\\n\n",
        "                 ,  , 9,10,11\\n\"\"\")\n",
        "Z = np.genfromtxt(s, delimiter=\",\", dtype=np.int)\n",
        "print(Z)"
      ]
    },
    {
      "cell_type": "markdown",
      "metadata": {
        "id": "vGHbSGYJBe8D"
      },
      "source": [
        "#### 55. What is the equivalent of enumerate for numpy arrays? (★★☆) \n",
        "(**hint**: np.ndenumerate, np.ndindex)"
      ]
    },
    {
      "cell_type": "code",
      "execution_count": 92,
      "metadata": {
        "id": "-nNQyc4ZBe8D",
        "colab": {
          "base_uri": "https://localhost:8080/"
        },
        "outputId": "3224680b-7da4-41d3-b256-c377713aa6ed"
      },
      "outputs": [
        {
          "output_type": "stream",
          "name": "stdout",
          "text": [
            "(0, 0) 0\n",
            "(0, 1) 1\n",
            "(0, 2) 2\n",
            "(1, 0) 3\n",
            "(1, 1) 4\n",
            "(1, 2) 5\n",
            "(2, 0) 6\n",
            "(2, 1) 7\n",
            "(2, 2) 8\n",
            "(0, 0) 0\n",
            "(0, 1) 1\n",
            "(0, 2) 2\n",
            "(1, 0) 3\n",
            "(1, 1) 4\n",
            "(1, 2) 5\n",
            "(2, 0) 6\n",
            "(2, 1) 7\n",
            "(2, 2) 8\n"
          ]
        }
      ],
      "source": [
        "Z = np.arange(9).reshape(3,3)\n",
        "for index, value in np.ndenumerate(Z):\n",
        "    print(index, value)\n",
        "for index in np.ndindex(Z.shape):\n",
        "    print(index, Z[index])"
      ]
    },
    {
      "cell_type": "markdown",
      "metadata": {
        "id": "cf-oLFLIBe8E"
      },
      "source": [
        "#### 56. Generate a generic 2D Gaussian-like array (★★☆) \n",
        "(**hint**: np.meshgrid, np.exp)"
      ]
    },
    {
      "cell_type": "code",
      "execution_count": 93,
      "metadata": {
        "id": "GzLM_2ZxBe8E",
        "colab": {
          "base_uri": "https://localhost:8080/"
        },
        "outputId": "9de45222-1116-451a-cf67-c7a5a9b0d1fc"
      },
      "outputs": [
        {
          "output_type": "stream",
          "name": "stdout",
          "text": [
            "[[0.36787944 0.44822088 0.51979489 0.57375342 0.60279818 0.60279818\n",
            "  0.57375342 0.51979489 0.44822088 0.36787944]\n",
            " [0.44822088 0.54610814 0.63331324 0.69905581 0.73444367 0.73444367\n",
            "  0.69905581 0.63331324 0.54610814 0.44822088]\n",
            " [0.51979489 0.63331324 0.73444367 0.81068432 0.85172308 0.85172308\n",
            "  0.81068432 0.73444367 0.63331324 0.51979489]\n",
            " [0.57375342 0.69905581 0.81068432 0.89483932 0.9401382  0.9401382\n",
            "  0.89483932 0.81068432 0.69905581 0.57375342]\n",
            " [0.60279818 0.73444367 0.85172308 0.9401382  0.98773022 0.98773022\n",
            "  0.9401382  0.85172308 0.73444367 0.60279818]\n",
            " [0.60279818 0.73444367 0.85172308 0.9401382  0.98773022 0.98773022\n",
            "  0.9401382  0.85172308 0.73444367 0.60279818]\n",
            " [0.57375342 0.69905581 0.81068432 0.89483932 0.9401382  0.9401382\n",
            "  0.89483932 0.81068432 0.69905581 0.57375342]\n",
            " [0.51979489 0.63331324 0.73444367 0.81068432 0.85172308 0.85172308\n",
            "  0.81068432 0.73444367 0.63331324 0.51979489]\n",
            " [0.44822088 0.54610814 0.63331324 0.69905581 0.73444367 0.73444367\n",
            "  0.69905581 0.63331324 0.54610814 0.44822088]\n",
            " [0.36787944 0.44822088 0.51979489 0.57375342 0.60279818 0.60279818\n",
            "  0.57375342 0.51979489 0.44822088 0.36787944]]\n"
          ]
        }
      ],
      "source": [
        "X, Y = np.meshgrid(np.linspace(-1,1,10), np.linspace(-1,1,10))\n",
        "D = np.sqrt(X*X+Y*Y)\n",
        "sigma, mu = 1.0, 0.0\n",
        "G = np.exp(-( (D-mu)**2 / ( 2.0 * sigma**2 ) ) )\n",
        "print(G)"
      ]
    },
    {
      "cell_type": "markdown",
      "metadata": {
        "id": "yfO7YknfBe8E"
      },
      "source": [
        "#### 57. How to randomly place p elements in a 2D array? (★★☆) \n",
        "(**hint**: np.put, np.random.choice)"
      ]
    },
    {
      "cell_type": "code",
      "execution_count": 94,
      "metadata": {
        "id": "xPu2CcfDBe8E",
        "colab": {
          "base_uri": "https://localhost:8080/"
        },
        "outputId": "8a66a6f6-8417-45aa-c1a9-dffcbaaa3960"
      },
      "outputs": [
        {
          "output_type": "stream",
          "name": "stdout",
          "text": [
            "[[0. 0. 1. 0. 0. 0. 0. 0. 0. 0.]\n",
            " [0. 0. 0. 0. 0. 0. 0. 0. 0. 0.]\n",
            " [0. 0. 0. 0. 0. 0. 0. 0. 0. 0.]\n",
            " [0. 0. 0. 0. 0. 0. 0. 0. 0. 0.]\n",
            " [0. 0. 0. 0. 0. 0. 0. 0. 0. 0.]\n",
            " [0. 0. 0. 1. 0. 0. 0. 0. 0. 0.]\n",
            " [0. 0. 0. 0. 0. 0. 0. 0. 0. 0.]\n",
            " [0. 0. 0. 0. 0. 0. 0. 0. 0. 0.]\n",
            " [0. 0. 0. 0. 0. 0. 0. 0. 0. 0.]\n",
            " [0. 0. 0. 0. 0. 0. 1. 0. 0. 0.]]\n"
          ]
        }
      ],
      "source": [
        "n = 10\n",
        "p = 3\n",
        "Z = np.zeros((n,n))\n",
        "np.put(Z, np.random.choice(range(n*n), p, replace=False),1)\n",
        "print(Z)"
      ]
    },
    {
      "cell_type": "markdown",
      "metadata": {
        "id": "7HV__a6cBe8E"
      },
      "source": [
        "#### 58. Subtract the mean of each row of a matrix (★★☆) \n",
        "(**hint**: mean(axis=,keepdims=))"
      ]
    },
    {
      "cell_type": "code",
      "execution_count": 95,
      "metadata": {
        "id": "oqEVSym7Be8F",
        "colab": {
          "base_uri": "https://localhost:8080/"
        },
        "outputId": "23979a6f-75b6-450c-9e43-66dd81b2fd11"
      },
      "outputs": [
        {
          "output_type": "stream",
          "name": "stdout",
          "text": [
            "[[ 0.22109411  0.20664927  0.27063052  0.32591983 -0.17316388 -0.14157712\n",
            "   0.0599155  -0.14968026 -0.29237279 -0.32741519]\n",
            " [ 0.19477684  0.28104647  0.0471497  -0.31831062  0.15448682 -0.24373608\n",
            "   0.00079768 -0.04480711 -0.01069385 -0.06070984]\n",
            " [ 0.43289407 -0.51229573 -0.47975075 -0.11454762  0.12799515 -0.12444881\n",
            "   0.37105901  0.39550031  0.31505481 -0.41146046]\n",
            " [-0.1826631  -0.45236462  0.13116834 -0.3311208   0.37556295  0.37093759\n",
            "   0.36837602  0.37720089 -0.51625495 -0.14084232]\n",
            " [ 0.00879669  0.19356978 -0.3520613   0.11168011 -0.00152228  0.38076927\n",
            "  -0.09656171 -0.50100711  0.18963691  0.06669963]]\n"
          ]
        }
      ],
      "source": [
        "X = np.random.rand(5, 10)\n",
        "Y = X - X.mean(axis=1, keepdims=True)\n",
        "Y = X - X.mean(axis=1).reshape(-1, 1)\n",
        "\n",
        "print(Y)"
      ]
    },
    {
      "cell_type": "markdown",
      "metadata": {
        "id": "-bDuu5OBBe8F"
      },
      "source": [
        "#### 59. How to sort an array by the nth column? (★★☆) \n",
        "(**hint**: argsort)"
      ]
    },
    {
      "cell_type": "code",
      "execution_count": 96,
      "metadata": {
        "id": "YNxpDudpBe8F",
        "colab": {
          "base_uri": "https://localhost:8080/"
        },
        "outputId": "a39df8ca-aabc-4b06-e2b9-1562c5e3889c"
      },
      "outputs": [
        {
          "output_type": "stream",
          "name": "stdout",
          "text": [
            "[[0 5 0]\n",
            " [2 1 0]\n",
            " [9 8 2]]\n",
            "[[2 1 0]\n",
            " [0 5 0]\n",
            " [9 8 2]]\n"
          ]
        }
      ],
      "source": [
        "Z = np.random.randint(0,10,(3,3))\n",
        "print(Z)\n",
        "print(Z[Z[:,1].argsort()])"
      ]
    },
    {
      "cell_type": "markdown",
      "metadata": {
        "id": "EmlW_1RYBe8F"
      },
      "source": [
        "#### 60. How to tell if a given 2D array has null columns? (★★☆) \n",
        "(**hint**: any, ~)"
      ]
    },
    {
      "cell_type": "code",
      "execution_count": 97,
      "metadata": {
        "id": "mmSgeoVNBe8F",
        "colab": {
          "base_uri": "https://localhost:8080/"
        },
        "outputId": "40afb623-b183-4ebe-c36f-4ef57a427fad"
      },
      "outputs": [
        {
          "output_type": "stream",
          "name": "stdout",
          "text": [
            "False\n"
          ]
        }
      ],
      "source": [
        "Z = np.random.randint(0,3,(3,10))\n",
        "print((~Z.any(axis=0)).any())"
      ]
    },
    {
      "cell_type": "markdown",
      "metadata": {
        "id": "5cNSDpkfBe8G"
      },
      "source": [
        "#### 61. Find the nearest value from a given value in an array (★★☆) \n",
        "(**hint**: np.abs, argmin, flat)"
      ]
    },
    {
      "cell_type": "code",
      "execution_count": 98,
      "metadata": {
        "id": "GRZaNsB9Be8G",
        "colab": {
          "base_uri": "https://localhost:8080/"
        },
        "outputId": "95b34a2d-8c53-4390-fd8a-394547358978"
      },
      "outputs": [
        {
          "output_type": "stream",
          "name": "stdout",
          "text": [
            "0.6358705684074595\n"
          ]
        }
      ],
      "source": [
        "Z = np.random.uniform(0,1,10)\n",
        "z = 0.5\n",
        "m = Z.flat[np.abs(Z - z).argmin()]\n",
        "print(m)"
      ]
    },
    {
      "cell_type": "markdown",
      "metadata": {
        "id": "znrttx6uBe8G"
      },
      "source": [
        "#### 62. Considering two arrays with shape (1,3) and (3,1), how to compute their sum using an iterator? (★★☆) \n",
        "(**hint**: np.nditer)"
      ]
    },
    {
      "cell_type": "code",
      "execution_count": 99,
      "metadata": {
        "id": "cGVBaWPgBe8G",
        "colab": {
          "base_uri": "https://localhost:8080/"
        },
        "outputId": "2dbc215f-bd4b-4c09-bddb-096c89fbd87f"
      },
      "outputs": [
        {
          "output_type": "stream",
          "name": "stdout",
          "text": [
            "[[0 1 2]\n",
            " [1 2 3]\n",
            " [2 3 4]]\n"
          ]
        }
      ],
      "source": [
        "A = np.arange(3).reshape(3,1)\n",
        "B = np.arange(3).reshape(1,3)\n",
        "it = np.nditer([A,B,None])\n",
        "for x,y,z in it: z[...] = x + y\n",
        "print(it.operands[2])"
      ]
    },
    {
      "cell_type": "markdown",
      "metadata": {
        "id": "vQyVqIz8Be8G"
      },
      "source": [
        "#### 63. Create an array class that has a name attribute (★★☆) \n",
        "(**hint**: class method)"
      ]
    },
    {
      "cell_type": "code",
      "execution_count": 100,
      "metadata": {
        "id": "hrDNU8QqBe8H",
        "colab": {
          "base_uri": "https://localhost:8080/"
        },
        "outputId": "f5f795a6-46d2-45c9-aa16-d1eb540fa86c"
      },
      "outputs": [
        {
          "output_type": "stream",
          "name": "stdout",
          "text": [
            "range_10\n"
          ]
        }
      ],
      "source": [
        "class NamedArray(np.ndarray):\n",
        "    def __new__(cls, array, name=\"no name\"):\n",
        "        obj = np.asarray(array).view(cls)\n",
        "        obj.name = name\n",
        "        return obj\n",
        "    def __array_finalize__(self, obj):\n",
        "        if obj is None: return\n",
        "        self.info = getattr(obj, 'name', \"no name\")\n",
        "\n",
        "Z = NamedArray(np.arange(10), \"range_10\")\n",
        "print (Z.name)"
      ]
    },
    {
      "cell_type": "markdown",
      "metadata": {
        "id": "SoLSHRUQBe8H"
      },
      "source": [
        "#### 64. Consider a given vector, how to add 1 to each element indexed by a second vector (be careful with repeated indices)? (★★★) \n",
        "(**hint**: np.bincount | np.add.at)"
      ]
    },
    {
      "cell_type": "code",
      "execution_count": 101,
      "metadata": {
        "id": "Jx0RhwB6Be8H",
        "colab": {
          "base_uri": "https://localhost:8080/"
        },
        "outputId": "2d269262-559b-411a-b858-ac5118a75c2e"
      },
      "outputs": [
        {
          "output_type": "stream",
          "name": "stdout",
          "text": [
            "[3. 3. 1. 4. 4. 2. 1. 4. 6. 2.]\n",
            "[ 5.  5.  1.  7.  7.  3.  1.  7. 11.  3.]\n"
          ]
        }
      ],
      "source": [
        "Z = np.ones(10)\n",
        "I = np.random.randint(0,len(Z),20)\n",
        "Z += np.bincount(I, minlength=len(Z))\n",
        "print(Z)\n",
        "np.add.at(Z, I, 1)\n",
        "print(Z)"
      ]
    },
    {
      "cell_type": "markdown",
      "metadata": {
        "id": "I1fTs-mUBe8H"
      },
      "source": [
        "#### 65. How to accumulate elements of a vector (X) to an array (F) based on an index list (I)? (★★★) \n",
        "(**hint**: np.bincount)"
      ]
    },
    {
      "cell_type": "code",
      "execution_count": 102,
      "metadata": {
        "id": "Z4HM2UEPBe8H",
        "colab": {
          "base_uri": "https://localhost:8080/"
        },
        "outputId": "d2dc5758-a4aa-40dd-f91d-a49cbcbaf295"
      },
      "outputs": [
        {
          "output_type": "stream",
          "name": "stdout",
          "text": [
            "[0. 7. 0. 6. 5. 0. 0. 0. 0. 3.]\n"
          ]
        }
      ],
      "source": [
        "X = [1,2,3,4,5,6]\n",
        "I = [1,3,9,3,4,1]\n",
        "F = np.bincount(I,X)\n",
        "print(F)"
      ]
    },
    {
      "cell_type": "markdown",
      "metadata": {
        "id": "LPSDl_YtBe8I"
      },
      "source": [
        "#### 66. Considering a (w,h,3) image of (dtype=ubyte), compute the number of unique colors (★★★) \n",
        "(**hint**: np.unique)"
      ]
    },
    {
      "cell_type": "code",
      "execution_count": 103,
      "metadata": {
        "id": "2i6YFG3LBe8I",
        "colab": {
          "base_uri": "https://localhost:8080/"
        },
        "outputId": "2f7aa769-d2c7-4174-9402-fe513e76db83"
      },
      "outputs": [
        {
          "output_type": "stream",
          "name": "stdout",
          "text": [
            "[0 1]\n"
          ]
        }
      ],
      "source": [
        "w,h = 16,16\n",
        "I = np.random.randint(0,2,(h,w,3)).astype(np.ubyte)\n",
        "F = I[...,0]*256*256 + I[...,1]*256 +I[...,2]\n",
        "n = len(np.unique(F))\n",
        "print(np.unique(I))"
      ]
    },
    {
      "cell_type": "markdown",
      "metadata": {
        "id": "uMNhDhULBe8I"
      },
      "source": [
        "#### 67. Considering a four dimensions array, how to get sum over the last two axis at once? (★★★) \n",
        "(**hint**: sum(axis=(-2,-1)))"
      ]
    },
    {
      "cell_type": "code",
      "execution_count": 104,
      "metadata": {
        "id": "jltza1daBe8I",
        "colab": {
          "base_uri": "https://localhost:8080/"
        },
        "outputId": "8248df36-9935-4975-f4b4-042f8fa2dac9"
      },
      "outputs": [
        {
          "output_type": "stream",
          "name": "stdout",
          "text": [
            "[[61 46 31 45]\n",
            " [55 58 59 49]\n",
            " [43 53 41 25]]\n",
            "[[61 46 31 45]\n",
            " [55 58 59 49]\n",
            " [43 53 41 25]]\n"
          ]
        }
      ],
      "source": [
        "A = np.random.randint(0,10,(3,4,3,4))\n",
        "sum = A.sum(axis=(-2,-1))\n",
        "print(sum)\n",
        "sum = A.reshape(A.shape[:-2] + (-1,)).sum(axis=-1)\n",
        "print(sum)"
      ]
    },
    {
      "cell_type": "markdown",
      "metadata": {
        "id": "WTdBe2sGBe8I"
      },
      "source": [
        "#### 68. Considering a one-dimensional vector D, how to compute means of subsets of D using a vector S of same size describing subset  indices? (★★★) \n",
        "(**hint**: np.bincount)"
      ]
    },
    {
      "cell_type": "code",
      "execution_count": 105,
      "metadata": {
        "id": "-EWc7qYHBe8J",
        "colab": {
          "base_uri": "https://localhost:8080/"
        },
        "outputId": "20c70404-61c1-441d-da77-82be686e4cb8"
      },
      "outputs": [
        {
          "output_type": "stream",
          "name": "stdout",
          "text": [
            "[0.47190622 0.59651485 0.30582383 0.52907569 0.47287962 0.51824783\n",
            " 0.51840335 0.48336403 0.49188592 0.32431476]\n",
            "0    0.471906\n",
            "1    0.596515\n",
            "2    0.305824\n",
            "3    0.529076\n",
            "4    0.472880\n",
            "5    0.518248\n",
            "6    0.518403\n",
            "7    0.483364\n",
            "8    0.491886\n",
            "9    0.324315\n",
            "dtype: float64\n"
          ]
        }
      ],
      "source": [
        "D = np.random.uniform(0,1,100)\n",
        "S = np.random.randint(0,10,100)\n",
        "D_sums = np.bincount(S, weights=D)\n",
        "D_counts = np.bincount(S)\n",
        "D_means = D_sums / D_counts\n",
        "print(D_means)\n",
        "import pandas as pd\n",
        "print(pd.Series(D).groupby(S).mean())"
      ]
    },
    {
      "cell_type": "markdown",
      "metadata": {
        "id": "0Onw2PcjBe8J"
      },
      "source": [
        "#### 69. How to get the diagonal of a dot product? (★★★) \n",
        "(**hint**: np.diag)"
      ]
    },
    {
      "cell_type": "code",
      "execution_count": 106,
      "metadata": {
        "id": "7eK_ENNSBe8J",
        "colab": {
          "base_uri": "https://localhost:8080/"
        },
        "outputId": "c5ee04a6-71d3-4925-b190-99f8bd3ecdc7"
      },
      "outputs": [
        {
          "output_type": "execute_result",
          "data": {
            "text/plain": [
              "array([1.86286396, 0.91698771, 0.64990527, 2.23135882, 1.46072426])"
            ]
          },
          "metadata": {},
          "execution_count": 106
        }
      ],
      "source": [
        "\n",
        "A = np.random.uniform(0,1,(5,5))\n",
        "B = np.random.uniform(0,1,(5,5))\n",
        "np.diag(np.dot(A, B))\n",
        "np.sum(A * B.T, axis=1)\n",
        "np.einsum(\"ij,ji->i\", A, B)"
      ]
    },
    {
      "cell_type": "markdown",
      "metadata": {
        "id": "rShzs4nTBe8J"
      },
      "source": [
        "#### 70. Consider the vector \\[1, 2, 3, 4, 5\\], how to build a new vector with 3 consecutive zeros interleaved between each value? (★★★) \n",
        "(**hint**: array\\[::4\\])"
      ]
    },
    {
      "cell_type": "code",
      "execution_count": 107,
      "metadata": {
        "id": "R71p-Zc_Be8K",
        "colab": {
          "base_uri": "https://localhost:8080/"
        },
        "outputId": "d32bd8c6-9f25-4d65-d5e3-145c00b7de03"
      },
      "outputs": [
        {
          "output_type": "stream",
          "name": "stdout",
          "text": [
            "[1. 0. 0. 0. 2. 0. 0. 0. 3. 0. 0. 0. 4. 0. 0. 0. 5.]\n"
          ]
        }
      ],
      "source": [
        "Z = np.array([1,2,3,4,5])\n",
        "nz = 3\n",
        "Z0 = np.zeros(len(Z) + (len(Z)-1)*(nz))\n",
        "Z0[::nz+1] = Z\n",
        "print(Z0)"
      ]
    },
    {
      "cell_type": "markdown",
      "metadata": {
        "id": "x2SdkHOCBe8K"
      },
      "source": [
        "#### 71. Consider an array of dimension (5,5,3), how to mulitply it by an array with dimensions (5,5)? (★★★) \n",
        "(**hint**: array\\[:, :, None\\])"
      ]
    },
    {
      "cell_type": "code",
      "execution_count": 108,
      "metadata": {
        "collapsed": true,
        "id": "V0Iln5G5Be8K",
        "colab": {
          "base_uri": "https://localhost:8080/"
        },
        "outputId": "b9bf39da-f94d-4e20-cda3-4c16630cd590"
      },
      "outputs": [
        {
          "output_type": "stream",
          "name": "stdout",
          "text": [
            "[[[2. 2. 2.]\n",
            "  [2. 2. 2.]\n",
            "  [2. 2. 2.]\n",
            "  [2. 2. 2.]\n",
            "  [2. 2. 2.]]\n",
            "\n",
            " [[2. 2. 2.]\n",
            "  [2. 2. 2.]\n",
            "  [2. 2. 2.]\n",
            "  [2. 2. 2.]\n",
            "  [2. 2. 2.]]\n",
            "\n",
            " [[2. 2. 2.]\n",
            "  [2. 2. 2.]\n",
            "  [2. 2. 2.]\n",
            "  [2. 2. 2.]\n",
            "  [2. 2. 2.]]\n",
            "\n",
            " [[2. 2. 2.]\n",
            "  [2. 2. 2.]\n",
            "  [2. 2. 2.]\n",
            "  [2. 2. 2.]\n",
            "  [2. 2. 2.]]\n",
            "\n",
            " [[2. 2. 2.]\n",
            "  [2. 2. 2.]\n",
            "  [2. 2. 2.]\n",
            "  [2. 2. 2.]\n",
            "  [2. 2. 2.]]]\n"
          ]
        }
      ],
      "source": [
        "A = np.ones((5,5,3))\n",
        "B = 2*np.ones((5,5))\n",
        "print(A * B[:,:,None])"
      ]
    },
    {
      "cell_type": "markdown",
      "metadata": {
        "id": "rp5y6hTsBe8K"
      },
      "source": [
        "#### 72. How to swap two rows of an array? (★★★) \n",
        "(**hint**: array\\[\\[\\]\\] = array\\[\\[\\]\\])"
      ]
    },
    {
      "cell_type": "code",
      "execution_count": 109,
      "metadata": {
        "id": "6Wek0d_oBe8L",
        "colab": {
          "base_uri": "https://localhost:8080/"
        },
        "outputId": "6078d1a7-965d-4b71-943b-c30dd16a00d6"
      },
      "outputs": [
        {
          "output_type": "stream",
          "name": "stdout",
          "text": [
            "[[ 5  6  7  8  9]\n",
            " [ 0  1  2  3  4]\n",
            " [10 11 12 13 14]\n",
            " [15 16 17 18 19]\n",
            " [20 21 22 23 24]]\n"
          ]
        }
      ],
      "source": [
        "A = np.arange(25).reshape(5,5)\n",
        "A[[0,1]] = A[[1,0]]\n",
        "print(A)"
      ]
    },
    {
      "cell_type": "markdown",
      "metadata": {
        "id": "tkSYx3BUBe8L"
      },
      "source": [
        "#### 73. Consider a set of 10 triplets describing 10 triangles (with shared vertices), find the set of unique line segments composing all the  triangles (★★★) \n",
        "(**hint**: repeat, np.roll, np.sort, view, np.unique)"
      ]
    },
    {
      "cell_type": "code",
      "execution_count": 110,
      "metadata": {
        "id": "sGQrz6xRBe8M",
        "colab": {
          "base_uri": "https://localhost:8080/"
        },
        "outputId": "555e3283-f4cb-4018-8870-af75f7a51ae2"
      },
      "outputs": [
        {
          "output_type": "stream",
          "name": "stdout",
          "text": [
            "[( 2, 17) ( 2, 20) ( 2, 99) ( 4, 48) ( 4, 75) ( 8, 69) ( 8, 94) (13, 29)\n",
            " (13, 54) (17, 99) (20, 99) (29, 54) (31, 32) (31, 79) (32, 79) (36, 55)\n",
            " (36, 71) (43, 55) (43, 93) (48, 75) (55, 71) (55, 73) (55, 81) (55, 93)\n",
            " (69, 94) (73, 81) (75, 75) (75, 96)]\n"
          ]
        }
      ],
      "source": [
        "faces = np.random.randint(0,100,(10,3))\n",
        "F = np.roll(faces.repeat(2,axis=1),-1,axis=1)\n",
        "F = F.reshape(len(F)*3,2)\n",
        "F = np.sort(F,axis=1)\n",
        "G = F.view( dtype=[('p0',F.dtype),('p1',F.dtype)] )\n",
        "G = np.unique(G)\n",
        "print(G)"
      ]
    },
    {
      "cell_type": "markdown",
      "metadata": {
        "id": "9afSjDCLBe8M"
      },
      "source": [
        "#### 74. Given an array C that is a bincount, how to produce an array A such that np.bincount(A) == C? (★★★) \n",
        "(**hint**: np.repeat)"
      ]
    },
    {
      "cell_type": "code",
      "execution_count": 111,
      "metadata": {
        "id": "tlbahsl3Be8N",
        "colab": {
          "base_uri": "https://localhost:8080/"
        },
        "outputId": "9349c129-4833-41e0-d48d-f04b6f256594"
      },
      "outputs": [
        {
          "output_type": "stream",
          "name": "stdout",
          "text": [
            "[1 1 2 3 4 4 6]\n"
          ]
        }
      ],
      "source": [
        "C = np.bincount([1,1,2,3,4,4,6])\n",
        "A = np.repeat(np.arange(len(C)), C)\n",
        "print(A)"
      ]
    },
    {
      "cell_type": "markdown",
      "metadata": {
        "id": "PxrES2AKBe8N"
      },
      "source": [
        "#### 75. How to compute averages using a sliding window over an array? (★★★) \n",
        "(**hint**: np.cumsum)"
      ]
    },
    {
      "cell_type": "code",
      "execution_count": 112,
      "metadata": {
        "id": "A8ILzGC0Be8N",
        "colab": {
          "base_uri": "https://localhost:8080/"
        },
        "outputId": "e441eff4-c8c7-478a-ec8f-fdf4d9f08660"
      },
      "outputs": [
        {
          "output_type": "stream",
          "name": "stdout",
          "text": [
            "[ 1.  2.  3.  4.  5.  6.  7.  8.  9. 10. 11. 12. 13. 14. 15. 16. 17. 18.]\n"
          ]
        }
      ],
      "source": [
        "def moving_average(a, n=3) :\n",
        "    ret = np.cumsum(a, dtype=float)\n",
        "    ret[n:] = ret[n:] - ret[:-n]\n",
        "    return ret[n - 1:] / n\n",
        "Z = np.arange(20)\n",
        "print(moving_average(Z, n=3))"
      ]
    },
    {
      "cell_type": "markdown",
      "metadata": {
        "id": "KUatVMwiBe8O"
      },
      "source": [
        "#### 76. Consider a one-dimensional array Z, build a two-dimensional array whose first row is (Z\\[0\\],Z\\[1\\],Z\\[2\\]) and each subsequent row is  shifted by 1 (last row should be (Z\\[-3\\],Z\\[-2\\],Z\\[-1\\]) (★★★) \n",
        "(**hint**: from numpy.lib import stride_tricks)"
      ]
    },
    {
      "cell_type": "code",
      "execution_count": 113,
      "metadata": {
        "id": "lChCsvhCBe8O",
        "colab": {
          "base_uri": "https://localhost:8080/"
        },
        "outputId": "09c2ee24-f958-4bee-9de1-21ce5c65a290"
      },
      "outputs": [
        {
          "output_type": "stream",
          "name": "stdout",
          "text": [
            "[[0 1 2]\n",
            " [1 2 3]\n",
            " [2 3 4]\n",
            " [3 4 5]\n",
            " [4 5 6]\n",
            " [5 6 7]\n",
            " [6 7 8]\n",
            " [7 8 9]]\n"
          ]
        }
      ],
      "source": [
        "from numpy.lib import stride_tricks\n",
        "\n",
        "def rolling(a, window):\n",
        "    shape = (a.size - window + 1, window)\n",
        "    strides = (a.itemsize, a.itemsize)\n",
        "    return stride_tricks.as_strided(a, shape=shape, strides=strides)\n",
        "Z = rolling(np.arange(10), 3)\n",
        "print(Z)"
      ]
    },
    {
      "cell_type": "markdown",
      "metadata": {
        "id": "n3yCxTk8Be8O"
      },
      "source": [
        "#### 77. How to negate a boolean, or to change the sign of a float inplace? (★★★) \n",
        "(**hint**: np.logical_not, np.negative)"
      ]
    },
    {
      "cell_type": "code",
      "execution_count": 114,
      "metadata": {
        "id": "2v-gDaA5Be8O",
        "colab": {
          "base_uri": "https://localhost:8080/"
        },
        "outputId": "85b6af14-c273-4baf-dbc4-b17c1d4eed9a"
      },
      "outputs": [
        {
          "output_type": "execute_result",
          "data": {
            "text/plain": [
              "array([-0.73160637,  0.85011836,  0.53387895, -0.68702729,  0.40348322,\n",
              "       -0.10160725, -0.84889662,  0.67264714, -0.91473637, -0.94567151,\n",
              "       -0.24198735, -0.1009731 ,  0.70987437, -0.16101716,  0.27696063,\n",
              "       -0.41374241,  0.25242352, -0.82353179,  0.76279962,  0.22462699,\n",
              "        0.49868616,  0.14925016, -0.18085427,  0.90869106,  0.72038795,\n",
              "       -0.43459597, -0.6454869 ,  0.21853409, -0.74195716,  0.18160019,\n",
              "        0.09538328,  0.84203234, -0.72590075, -0.92649275,  0.86310806,\n",
              "        0.60191458,  0.02422835,  0.48610608, -0.49620031,  0.55318122,\n",
              "       -0.02185083, -0.64093273, -0.32094409,  0.18585042, -0.39813717,\n",
              "       -0.89420155,  0.53594912, -0.64258453, -0.87924954,  0.67609933,\n",
              "        0.13024232,  0.14281906, -0.92985007,  0.1138151 , -0.13552486,\n",
              "       -0.38713953, -0.49052257, -0.38494519,  0.9393778 , -0.48080974,\n",
              "        0.30297255,  0.93821408,  0.93644054,  0.44170849, -0.42666341,\n",
              "       -0.48137683, -0.31578351, -0.66464106, -0.42784563, -0.52227507,\n",
              "        0.99481523,  0.25936567,  0.88720907,  0.21647361, -0.88588812,\n",
              "       -0.88251033,  0.43801326, -0.34650972,  0.5232966 ,  0.23330798,\n",
              "        0.7951359 , -0.97760126,  0.92486273,  0.69267765, -0.08654802,\n",
              "       -0.83109108,  0.65738857, -0.11523617, -0.36804077, -0.20093099,\n",
              "        0.00792189, -0.45315302, -0.14081933,  0.28618143,  0.05657054,\n",
              "        0.09568075,  0.62214744, -0.10905166,  0.57523122, -0.9789383 ])"
            ]
          },
          "metadata": {},
          "execution_count": 114
        }
      ],
      "source": [
        "Z = np.random.randint(0,2,100)\n",
        "np.logical_not(Z, out=Z)\n",
        "\n",
        "Z = np.random.uniform(-1.0,1.0,100)\n",
        "np.negative(Z, out=Z)"
      ]
    },
    {
      "cell_type": "markdown",
      "metadata": {
        "id": "ES0u0wa-Be8P"
      },
      "source": [
        "#### 78. Consider 2 sets of points P0,P1 describing lines (2d) and a point p, how to compute distance from p to each line i  (P0\\[i\\],P1\\[i\\])? (★★★)"
      ]
    },
    {
      "cell_type": "code",
      "execution_count": 115,
      "metadata": {
        "id": "EqFhVZ2IBe8P",
        "colab": {
          "base_uri": "https://localhost:8080/"
        },
        "outputId": "23195a86-50c8-486a-dd4a-4b995b2d20ef"
      },
      "outputs": [
        {
          "output_type": "stream",
          "name": "stdout",
          "text": [
            "[13.55646685  0.8335213   2.66144011  1.36248021  3.93640389 11.82953521\n",
            "  0.74095697  4.44087546 11.60591126  6.24899697]\n"
          ]
        }
      ],
      "source": [
        "def distance(P0, P1, p):\n",
        "    T = P1 - P0\n",
        "    L = (T**2).sum(axis=1)\n",
        "    U = -((P0[:,0]-p[...,0])*T[:,0] + (P0[:,1]-p[...,1])*T[:,1]) / L\n",
        "    U = U.reshape(len(U),1)\n",
        "    D = P0 + U*T - p\n",
        "    return np.sqrt((D**2).sum(axis=1))\n",
        "\n",
        "P0 = np.random.uniform(-10,10,(10,2))\n",
        "P1 = np.random.uniform(-10,10,(10,2))\n",
        "p  = np.random.uniform(-10,10,( 1,2))\n",
        "print(distance(P0, P1, p))"
      ]
    },
    {
      "cell_type": "markdown",
      "metadata": {
        "id": "k4qDEFfdBe8P"
      },
      "source": [
        "#### 79. Consider 2 sets of points P0,P1 describing lines (2d) and a set of points P, how to compute distance from each point j (P\\[j\\]) to each line i (P0\\[i\\],P1\\[i\\])? (★★★)"
      ]
    },
    {
      "cell_type": "code",
      "execution_count": 116,
      "metadata": {
        "id": "Z5wbStCXBe8Q",
        "colab": {
          "base_uri": "https://localhost:8080/"
        },
        "outputId": "53d9cbdf-e144-4213-f169-89de17981ffe"
      },
      "outputs": [
        {
          "output_type": "stream",
          "name": "stdout",
          "text": [
            "[[ 2.07905555  0.25203793  2.05419278  4.43366746  8.38594148  7.51445169\n",
            "  13.42488652  0.78292993  5.75865091  3.80448245]\n",
            " [ 8.06302665  4.60428647  7.27818225  1.03907794 14.79907429  2.1873086\n",
            "  14.15673107  5.71191628 12.23889297  8.61368444]\n",
            " [10.59721085  1.92297458  1.84032683  4.82255423 12.63636909  1.88104419\n",
            "   6.01604399  4.3189499  12.35958905  2.59817087]\n",
            " [10.66932946  7.68780788  3.41345554  5.90721127  9.32309683  3.20478424\n",
            "   0.15183906  1.51756673 10.61429572  2.93999141]\n",
            " [12.54564748  2.58109265  6.36262766  6.0639595  16.52374217  2.94723976\n",
            "   9.37085165  7.961819   15.43719697  7.13366612]\n",
            " [10.52730238  9.43386413  5.03885217  6.06499097  8.21341455  3.43403051\n",
            "   1.52402857  0.5502205   9.94557755  4.63443828]\n",
            " [ 5.56358049 11.24137543  7.72458666  1.20965221  3.94438757  1.37516281\n",
            "   0.31113137  3.94490974  5.13524019  6.88952928]\n",
            " [ 5.8397535   4.4798404   1.48732759  0.31335313  8.06420583  2.54979588\n",
            "   6.34617572  0.39751228  7.49071903  0.35633092]\n",
            " [10.41229793  4.19824261  0.27767734  5.02832321 11.19045783  2.17994146\n",
            "   3.83213944  3.05852778 11.48832699  0.39017125]\n",
            " [ 0.65087751 15.85672421 13.23703949  4.45717191  2.77140226  6.88682421\n",
            "   1.16754236 10.7371763   1.62452614 11.97580282]]\n"
          ]
        }
      ],
      "source": [
        "P0 = np.random.uniform(-10, 10, (10,2))\n",
        "P1 = np.random.uniform(-10,10,(10,2))\n",
        "p = np.random.uniform(-10, 10, (10,2))\n",
        "print(np.array([distance(P0,P1,p_i) for p_i in p]))"
      ]
    },
    {
      "cell_type": "markdown",
      "metadata": {
        "id": "4skU-pBRBe8Q"
      },
      "source": [
        "#### 80. Consider an arbitrary array, write a function that extract a subpart with a fixed shape and centered on a given element (pad with a `fill` value when necessary) (★★★) \n",
        "(**hint**: minimum, maximum)"
      ]
    },
    {
      "cell_type": "code",
      "execution_count": 117,
      "metadata": {
        "id": "lksk2KwXBe8Q",
        "colab": {
          "base_uri": "https://localhost:8080/"
        },
        "outputId": "45ac068f-e629-4795-d670-87828ba81bbd"
      },
      "outputs": [
        {
          "output_type": "stream",
          "name": "stdout",
          "text": [
            "[[0 9 2 6 4 4 5 6 8 8]\n",
            " [2 8 0 9 3 5 6 2 5 4]\n",
            " [2 9 7 9 4 0 8 1 4 9]\n",
            " [9 2 4 0 6 2 8 6 4 5]\n",
            " [5 7 3 2 1 2 2 7 4 9]\n",
            " [1 3 3 2 9 0 9 1 5 5]\n",
            " [1 0 1 9 0 2 0 7 4 3]\n",
            " [9 0 8 7 2 3 3 1 4 2]\n",
            " [6 9 4 2 0 8 6 9 9 7]\n",
            " [0 9 3 2 3 3 1 3 0 9]]\n",
            "[[0 0 0 0 0]\n",
            " [0 0 9 2 6]\n",
            " [0 2 8 0 9]\n",
            " [0 2 9 7 9]\n",
            " [0 9 2 4 0]]\n"
          ]
        },
        {
          "output_type": "stream",
          "name": "stderr",
          "text": [
            "/usr/local/lib/python3.7/dist-packages/ipykernel_launcher.py:23: FutureWarning: Using a non-tuple sequence for multidimensional indexing is deprecated; use `arr[tuple(seq)]` instead of `arr[seq]`. In the future this will be interpreted as an array index, `arr[np.array(seq)]`, which will result either in an error or a different result.\n"
          ]
        }
      ],
      "source": [
        "Z = np.random.randint(0,10,(10,10))\n",
        "shape = (5,5)\n",
        "fill  = 0\n",
        "position = (1,1)\n",
        "\n",
        "R = np.ones(shape, dtype=Z.dtype)*fill\n",
        "P  = np.array(list(position)).astype(int)\n",
        "Rs = np.array(list(R.shape)).astype(int)\n",
        "Zs = np.array(list(Z.shape)).astype(int)\n",
        "\n",
        "R_start = np.zeros((len(shape),)).astype(int)\n",
        "R_stop  = np.array(list(shape)).astype(int)\n",
        "Z_start = (P-Rs//2)\n",
        "Z_stop  = (P+Rs//2)+Rs%2\n",
        "\n",
        "R_start = (R_start - np.minimum(Z_start,0)).tolist()\n",
        "Z_start = (np.maximum(Z_start,0)).tolist()\n",
        "R_stop = np.maximum(R_start, (R_stop - np.maximum(Z_stop-Zs,0))).tolist()\n",
        "Z_stop = (np.minimum(Z_stop,Zs)).tolist()\n",
        "\n",
        "r = [slice(start,stop) for start,stop in zip(R_start,R_stop)]\n",
        "z = [slice(start,stop) for start,stop in zip(Z_start,Z_stop)]\n",
        "R[r] = Z[z]\n",
        "print(Z)\n",
        "print(R)"
      ]
    },
    {
      "cell_type": "markdown",
      "metadata": {
        "id": "FtmHhhdvBe8Q"
      },
      "source": [
        "#### 81. Consider an array Z = \\[1,2,3,4,5,6,7,8,9,10,11,12,13,14\\], how to generate an array R = \\[\\[1,2,3,4\\], \\[2,3,4,5\\], \\[3,4,5,6\\], ..., \\[11,12,13,14\\]\\]? (★★★) \n",
        "(**hint**: stride\\_tricks.as\\_strided)"
      ]
    },
    {
      "cell_type": "code",
      "execution_count": 118,
      "metadata": {
        "id": "uhc-7Dc0Be8R",
        "colab": {
          "base_uri": "https://localhost:8080/"
        },
        "outputId": "35fe0b9f-89ff-44aa-c25c-69ebe0f3581f"
      },
      "outputs": [
        {
          "output_type": "stream",
          "name": "stdout",
          "text": [
            "[[ 1  2  3  4]\n",
            " [ 2  3  4  5]\n",
            " [ 3  4  5  6]\n",
            " [ 4  5  6  7]\n",
            " [ 5  6  7  8]\n",
            " [ 6  7  8  9]\n",
            " [ 7  8  9 10]\n",
            " [ 8  9 10 11]\n",
            " [ 9 10 11 12]\n",
            " [10 11 12 13]\n",
            " [11 12 13 14]]\n"
          ]
        }
      ],
      "source": [
        "Z = np.arange(1,15,dtype=np.uint32)\n",
        "R = stride_tricks.as_strided(Z,(11,4),(4,4))\n",
        "print(R)"
      ]
    },
    {
      "cell_type": "markdown",
      "metadata": {
        "id": "NfuZv3lKBe8R"
      },
      "source": [
        "#### 82. Compute a matrix rank (★★★) \n",
        "(**hint**: np.linalg.svd) (suggestion: np.linalg.svd)"
      ]
    },
    {
      "cell_type": "code",
      "execution_count": 119,
      "metadata": {
        "id": "xlOnaJwNBe8S",
        "colab": {
          "base_uri": "https://localhost:8080/"
        },
        "outputId": "c9964dfe-4027-40b1-8791-3ac83d1c0777"
      },
      "outputs": [
        {
          "output_type": "stream",
          "name": "stdout",
          "text": [
            "10\n"
          ]
        }
      ],
      "source": [
        "Z = np.random.uniform(0,1,(10,10))\n",
        "U, S, V = np.linalg.svd(Z) # Singular Value Decomposition\n",
        "rank = np.sum(S > 1e-10)\n",
        "print(rank)"
      ]
    },
    {
      "cell_type": "markdown",
      "metadata": {
        "id": "gXcdRxvPBe8S"
      },
      "source": [
        "#### 83. How to find the most frequent value in an array? \n",
        "(**hint**: np.bincount, argmax)"
      ]
    },
    {
      "cell_type": "code",
      "execution_count": 120,
      "metadata": {
        "id": "bTqaYpR-Be8S",
        "colab": {
          "base_uri": "https://localhost:8080/"
        },
        "outputId": "02568d96-7959-4928-dede-6693a0681112"
      },
      "outputs": [
        {
          "output_type": "stream",
          "name": "stdout",
          "text": [
            "7\n"
          ]
        }
      ],
      "source": [
        "Z = np.random.randint(0,10,50)\n",
        "print(np.bincount(Z).argmax())"
      ]
    },
    {
      "cell_type": "markdown",
      "metadata": {
        "id": "LUfp7YHMBe8T"
      },
      "source": [
        "#### 84. Extract all the contiguous 3x3 blocks from a random 10x10 matrix (★★★) \n",
        "(**hint**: stride\\_tricks.as\\_strided)"
      ]
    },
    {
      "cell_type": "code",
      "execution_count": 121,
      "metadata": {
        "id": "Y7-CC4hmBe8T",
        "colab": {
          "base_uri": "https://localhost:8080/"
        },
        "outputId": "3cbb91cd-0373-47fd-f067-ab0e416f8523"
      },
      "outputs": [
        {
          "output_type": "stream",
          "name": "stdout",
          "text": [
            "[[[[1 3 2]\n",
            "   [2 0 1]\n",
            "   [4 4 3]]\n",
            "\n",
            "  [[3 2 1]\n",
            "   [0 1 0]\n",
            "   [4 3 0]]\n",
            "\n",
            "  [[2 1 4]\n",
            "   [1 0 2]\n",
            "   [3 0 3]]\n",
            "\n",
            "  [[1 4 0]\n",
            "   [0 2 0]\n",
            "   [0 3 2]]\n",
            "\n",
            "  [[4 0 2]\n",
            "   [2 0 4]\n",
            "   [3 2 1]]\n",
            "\n",
            "  [[0 2 4]\n",
            "   [0 4 0]\n",
            "   [2 1 0]]\n",
            "\n",
            "  [[2 4 3]\n",
            "   [4 0 2]\n",
            "   [1 0 2]]\n",
            "\n",
            "  [[4 3 1]\n",
            "   [0 2 1]\n",
            "   [0 2 4]]]\n",
            "\n",
            "\n",
            " [[[2 0 1]\n",
            "   [4 4 3]\n",
            "   [4 4 3]]\n",
            "\n",
            "  [[0 1 0]\n",
            "   [4 3 0]\n",
            "   [4 3 3]]\n",
            "\n",
            "  [[1 0 2]\n",
            "   [3 0 3]\n",
            "   [3 3 4]]\n",
            "\n",
            "  [[0 2 0]\n",
            "   [0 3 2]\n",
            "   [3 4 2]]\n",
            "\n",
            "  [[2 0 4]\n",
            "   [3 2 1]\n",
            "   [4 2 0]]\n",
            "\n",
            "  [[0 4 0]\n",
            "   [2 1 0]\n",
            "   [2 0 1]]\n",
            "\n",
            "  [[4 0 2]\n",
            "   [1 0 2]\n",
            "   [0 1 3]]\n",
            "\n",
            "  [[0 2 1]\n",
            "   [0 2 4]\n",
            "   [1 3 0]]]\n",
            "\n",
            "\n",
            " [[[4 4 3]\n",
            "   [4 4 3]\n",
            "   [0 3 4]]\n",
            "\n",
            "  [[4 3 0]\n",
            "   [4 3 3]\n",
            "   [3 4 4]]\n",
            "\n",
            "  [[3 0 3]\n",
            "   [3 3 4]\n",
            "   [4 4 0]]\n",
            "\n",
            "  [[0 3 2]\n",
            "   [3 4 2]\n",
            "   [4 0 3]]\n",
            "\n",
            "  [[3 2 1]\n",
            "   [4 2 0]\n",
            "   [0 3 4]]\n",
            "\n",
            "  [[2 1 0]\n",
            "   [2 0 1]\n",
            "   [3 4 1]]\n",
            "\n",
            "  [[1 0 2]\n",
            "   [0 1 3]\n",
            "   [4 1 3]]\n",
            "\n",
            "  [[0 2 4]\n",
            "   [1 3 0]\n",
            "   [1 3 1]]]\n",
            "\n",
            "\n",
            " [[[4 4 3]\n",
            "   [0 3 4]\n",
            "   [2 4 4]]\n",
            "\n",
            "  [[4 3 3]\n",
            "   [3 4 4]\n",
            "   [4 4 2]]\n",
            "\n",
            "  [[3 3 4]\n",
            "   [4 4 0]\n",
            "   [4 2 4]]\n",
            "\n",
            "  [[3 4 2]\n",
            "   [4 0 3]\n",
            "   [2 4 2]]\n",
            "\n",
            "  [[4 2 0]\n",
            "   [0 3 4]\n",
            "   [4 2 4]]\n",
            "\n",
            "  [[2 0 1]\n",
            "   [3 4 1]\n",
            "   [2 4 0]]\n",
            "\n",
            "  [[0 1 3]\n",
            "   [4 1 3]\n",
            "   [4 0 2]]\n",
            "\n",
            "  [[1 3 0]\n",
            "   [1 3 1]\n",
            "   [0 2 2]]]\n",
            "\n",
            "\n",
            " [[[0 3 4]\n",
            "   [2 4 4]\n",
            "   [1 0 2]]\n",
            "\n",
            "  [[3 4 4]\n",
            "   [4 4 2]\n",
            "   [0 2 1]]\n",
            "\n",
            "  [[4 4 0]\n",
            "   [4 2 4]\n",
            "   [2 1 1]]\n",
            "\n",
            "  [[4 0 3]\n",
            "   [2 4 2]\n",
            "   [1 1 2]]\n",
            "\n",
            "  [[0 3 4]\n",
            "   [4 2 4]\n",
            "   [1 2 1]]\n",
            "\n",
            "  [[3 4 1]\n",
            "   [2 4 0]\n",
            "   [2 1 2]]\n",
            "\n",
            "  [[4 1 3]\n",
            "   [4 0 2]\n",
            "   [1 2 1]]\n",
            "\n",
            "  [[1 3 1]\n",
            "   [0 2 2]\n",
            "   [2 1 2]]]\n",
            "\n",
            "\n",
            " [[[2 4 4]\n",
            "   [1 0 2]\n",
            "   [1 4 3]]\n",
            "\n",
            "  [[4 4 2]\n",
            "   [0 2 1]\n",
            "   [4 3 3]]\n",
            "\n",
            "  [[4 2 4]\n",
            "   [2 1 1]\n",
            "   [3 3 4]]\n",
            "\n",
            "  [[2 4 2]\n",
            "   [1 1 2]\n",
            "   [3 4 4]]\n",
            "\n",
            "  [[4 2 4]\n",
            "   [1 2 1]\n",
            "   [4 4 1]]\n",
            "\n",
            "  [[2 4 0]\n",
            "   [2 1 2]\n",
            "   [4 1 3]]\n",
            "\n",
            "  [[4 0 2]\n",
            "   [1 2 1]\n",
            "   [1 3 1]]\n",
            "\n",
            "  [[0 2 2]\n",
            "   [2 1 2]\n",
            "   [3 1 3]]]\n",
            "\n",
            "\n",
            " [[[1 0 2]\n",
            "   [1 4 3]\n",
            "   [4 4 4]]\n",
            "\n",
            "  [[0 2 1]\n",
            "   [4 3 3]\n",
            "   [4 4 4]]\n",
            "\n",
            "  [[2 1 1]\n",
            "   [3 3 4]\n",
            "   [4 4 3]]\n",
            "\n",
            "  [[1 1 2]\n",
            "   [3 4 4]\n",
            "   [4 3 1]]\n",
            "\n",
            "  [[1 2 1]\n",
            "   [4 4 1]\n",
            "   [3 1 0]]\n",
            "\n",
            "  [[2 1 2]\n",
            "   [4 1 3]\n",
            "   [1 0 1]]\n",
            "\n",
            "  [[1 2 1]\n",
            "   [1 3 1]\n",
            "   [0 1 1]]\n",
            "\n",
            "  [[2 1 2]\n",
            "   [3 1 3]\n",
            "   [1 1 2]]]\n",
            "\n",
            "\n",
            " [[[1 4 3]\n",
            "   [4 4 4]\n",
            "   [4 3 1]]\n",
            "\n",
            "  [[4 3 3]\n",
            "   [4 4 4]\n",
            "   [3 1 2]]\n",
            "\n",
            "  [[3 3 4]\n",
            "   [4 4 3]\n",
            "   [1 2 4]]\n",
            "\n",
            "  [[3 4 4]\n",
            "   [4 3 1]\n",
            "   [2 4 2]]\n",
            "\n",
            "  [[4 4 1]\n",
            "   [3 1 0]\n",
            "   [4 2 2]]\n",
            "\n",
            "  [[4 1 3]\n",
            "   [1 0 1]\n",
            "   [2 2 4]]\n",
            "\n",
            "  [[1 3 1]\n",
            "   [0 1 1]\n",
            "   [2 4 1]]\n",
            "\n",
            "  [[3 1 3]\n",
            "   [1 1 2]\n",
            "   [4 1 1]]]]\n"
          ]
        }
      ],
      "source": [
        "Z = np.random.randint(0,5,(10,10))\n",
        "n = 3\n",
        "i = 1 + (Z.shape[0]-3)\n",
        "j = 1 + (Z.shape[1]-3)\n",
        "C = stride_tricks.as_strided(Z, shape=(i, j, n, n), strides=Z.strides + Z.strides)\n",
        "print(C)"
      ]
    },
    {
      "cell_type": "markdown",
      "metadata": {
        "id": "D6zj8egYBe8U"
      },
      "source": [
        "#### 85. Create a 2D array subclass such that Z\\[i,j\\] == Z\\[j,i\\] (★★★) \n",
        "(**hint**: class method)"
      ]
    },
    {
      "cell_type": "code",
      "execution_count": 122,
      "metadata": {
        "id": "0LrGN2e5Be8U",
        "colab": {
          "base_uri": "https://localhost:8080/"
        },
        "outputId": "c563eb7e-521d-47b0-d272-c01ca7fdeda1"
      },
      "outputs": [
        {
          "output_type": "stream",
          "name": "stdout",
          "text": [
            "[[ 5 10  4  7  3]\n",
            " [10  3 10  8 10]\n",
            " [ 4 10  0 42  9]\n",
            " [ 7  8 42  6  8]\n",
            " [ 3 10  9  8  0]]\n"
          ]
        }
      ],
      "source": [
        "class Symetric(np.ndarray):\n",
        "    def __setitem__(self, index, value):\n",
        "        i,j = index\n",
        "        super(Symetric, self).__setitem__((i,j), value)\n",
        "        super(Symetric, self).__setitem__((j,i), value)\n",
        "\n",
        "def symetric(Z):\n",
        "    return np.asarray(Z + Z.T - np.diag(Z.diagonal())).view(Symetric)\n",
        "\n",
        "S = symetric(np.random.randint(0,10,(5,5)))\n",
        "S[2,3] = 42\n",
        "print(S)"
      ]
    },
    {
      "cell_type": "markdown",
      "metadata": {
        "id": "e_4IcjsABe8U"
      },
      "source": [
        "#### 86. Consider a set of p matrices wich shape (n,n) and a set of p vectors with shape (n,1). How to compute the sum of of the p matrix products at once? (result has shape (n,1)) (★★★) \n",
        "(**hint**: np.tensordot)"
      ]
    },
    {
      "cell_type": "code",
      "execution_count": 123,
      "metadata": {
        "id": "Q1Da8D5iBe8V",
        "colab": {
          "base_uri": "https://localhost:8080/"
        },
        "outputId": "d25dac29-ca0d-4e2d-bb29-e838956da1fa"
      },
      "outputs": [
        {
          "output_type": "stream",
          "name": "stdout",
          "text": [
            "[[200.]\n",
            " [200.]\n",
            " [200.]\n",
            " [200.]\n",
            " [200.]\n",
            " [200.]\n",
            " [200.]\n",
            " [200.]\n",
            " [200.]\n",
            " [200.]\n",
            " [200.]\n",
            " [200.]\n",
            " [200.]\n",
            " [200.]\n",
            " [200.]\n",
            " [200.]\n",
            " [200.]\n",
            " [200.]\n",
            " [200.]\n",
            " [200.]]\n"
          ]
        }
      ],
      "source": [
        "p, n = 10, 20\n",
        "M = np.ones((p,n,n))\n",
        "V = np.ones((p,n,1))\n",
        "S = np.tensordot(M, V, axes=[[0, 2], [0, 1]])\n",
        "print(S)"
      ]
    },
    {
      "cell_type": "markdown",
      "metadata": {
        "id": "C8kqfrM8Be8V"
      },
      "source": [
        "#### 87. Consider a 16x16 array, how to get the block-sum (block size is 4x4)? (★★★) \n",
        "(**hint**: np.add.reduceat)"
      ]
    },
    {
      "cell_type": "code",
      "execution_count": 124,
      "metadata": {
        "id": "LqTWnU4_Be8V",
        "colab": {
          "base_uri": "https://localhost:8080/"
        },
        "outputId": "aec3ee7b-783f-442b-d467-eff09fd5d825"
      },
      "outputs": [
        {
          "output_type": "stream",
          "name": "stdout",
          "text": [
            "[[16. 16. 16. 16.]\n",
            " [16. 16. 16. 16.]\n",
            " [16. 16. 16. 16.]\n",
            " [16. 16. 16. 16.]]\n"
          ]
        }
      ],
      "source": [
        "Z = np.ones((16,16))\n",
        "k = 4\n",
        "S = np.add.reduceat(np.add.reduceat(Z, np.arange(0, Z.shape[0], k), axis=0),\n",
        "                                       np.arange(0, Z.shape[1], k), axis=1)\n",
        "print(S)"
      ]
    },
    {
      "cell_type": "markdown",
      "metadata": {
        "id": "hrc9yQjxBe8W"
      },
      "source": [
        "#### 88. How to implement the Game of Life using numpy arrays? (★★★)"
      ]
    },
    {
      "cell_type": "code",
      "execution_count": 125,
      "metadata": {
        "id": "bquRnI-qBe8W",
        "colab": {
          "base_uri": "https://localhost:8080/"
        },
        "outputId": "af251d90-7f25-4e85-f52d-1ed1acc086f7"
      },
      "outputs": [
        {
          "output_type": "stream",
          "name": "stdout",
          "text": [
            "[[0 0 0 ... 0 0 0]\n",
            " [0 0 0 ... 0 0 0]\n",
            " [0 0 0 ... 0 0 0]\n",
            " ...\n",
            " [0 0 0 ... 0 0 0]\n",
            " [0 0 0 ... 0 0 0]\n",
            " [0 0 0 ... 0 0 0]]\n"
          ]
        }
      ],
      "source": [
        "def iterate(Z):\n",
        "    # Count neighbours\n",
        "    N = (Z[0:-2,0:-2] + Z[0:-2,1:-1] + Z[0:-2,2:] +\n",
        "         Z[1:-1,0:-2]                + Z[1:-1,2:] +\n",
        "         Z[2:  ,0:-2] + Z[2:  ,1:-1] + Z[2:  ,2:])\n",
        "\n",
        "    # Apply rules\n",
        "    birth = (N==3) & (Z[1:-1,1:-1]==0)\n",
        "    survive = ((N==2) | (N==3)) & (Z[1:-1,1:-1]==1)\n",
        "    Z[...] = 0\n",
        "    Z[1:-1,1:-1][birth | survive] = 1\n",
        "    return Z\n",
        "\n",
        "Z = np.random.randint(0,2,(50,50))\n",
        "for i in range(100): Z = iterate(Z)\n",
        "print(Z)"
      ]
    },
    {
      "cell_type": "markdown",
      "metadata": {
        "id": "SQoX0I54Be8W"
      },
      "source": [
        "#### 89. How to get the n largest values of an array (★★★) \n",
        "(**hint**: np.argsort | np.argpartition)"
      ]
    },
    {
      "cell_type": "code",
      "execution_count": 126,
      "metadata": {
        "id": "02qu6oQ6Be8X",
        "colab": {
          "base_uri": "https://localhost:8080/"
        },
        "outputId": "da6f84e9-57a4-4a0a-f4e3-454d5f712942"
      },
      "outputs": [
        {
          "output_type": "stream",
          "name": "stdout",
          "text": [
            "[9995 9996 9997 9998 9999]\n",
            "[9998 9999 9997 9996 9995]\n"
          ]
        }
      ],
      "source": [
        "Z = np.arange(10000)\n",
        "np.random.shuffle(Z)\n",
        "n = 5\n",
        "\n",
        "# Slow\n",
        "print (Z[np.argsort(Z)[-n:]])\n",
        "\n",
        "# Fast\n",
        "print (Z[np.argpartition(-Z,n)[:n]])"
      ]
    },
    {
      "cell_type": "markdown",
      "metadata": {
        "id": "M2oScU8rBe8X"
      },
      "source": [
        "#### 90. Given an arbitrary number of vectors, build the cartesian product (every combinations of every item) (★★★) \n",
        "(**hint**: np.indices)"
      ]
    },
    {
      "cell_type": "code",
      "execution_count": 127,
      "metadata": {
        "scrolled": true,
        "id": "0LTBQa8NBe8X",
        "colab": {
          "base_uri": "https://localhost:8080/"
        },
        "outputId": "7f238083-28c5-4cf5-fce8-443155122a47"
      },
      "outputs": [
        {
          "output_type": "stream",
          "name": "stdout",
          "text": [
            "[[1 4 6]\n",
            " [1 4 7]\n",
            " [1 5 6]\n",
            " [1 5 7]\n",
            " [2 4 6]\n",
            " [2 4 7]\n",
            " [2 5 6]\n",
            " [2 5 7]\n",
            " [3 4 6]\n",
            " [3 4 7]\n",
            " [3 5 6]\n",
            " [3 5 7]]\n"
          ]
        }
      ],
      "source": [
        "def cartesian(arrays):\n",
        "    arrays = [np.asarray(a) for a in arrays]\n",
        "    shape = (len(x) for x in arrays)\n",
        "\n",
        "    ix = np.indices(shape, dtype=int)\n",
        "    ix = ix.reshape(len(arrays), -1).T\n",
        "\n",
        "    for n, arr in enumerate(arrays):\n",
        "        ix[:, n] = arrays[n][ix[:, n]]\n",
        "\n",
        "    return ix\n",
        "\n",
        "print (cartesian(([1, 2, 3], [4, 5], [6, 7])))"
      ]
    },
    {
      "cell_type": "markdown",
      "metadata": {
        "id": "0ZSquYMuBe8Y"
      },
      "source": [
        "#### 91. How to create a record array from a regular array? (★★★) \n",
        "(**hint**: np.core.records.fromarrays)"
      ]
    },
    {
      "cell_type": "code",
      "execution_count": 128,
      "metadata": {
        "id": "0RmwkgB7Be8Y",
        "colab": {
          "base_uri": "https://localhost:8080/"
        },
        "outputId": "937e2336-d6a7-4194-a513-07f62ef199b6"
      },
      "outputs": [
        {
          "output_type": "stream",
          "name": "stdout",
          "text": [
            "[(b'Hello', 2.5, 3) (b'World', 3.6, 2)]\n"
          ]
        }
      ],
      "source": [
        "Z = np.array([(\"Hello\", 2.5, 3),\n",
        "              (\"World\", 3.6, 2)])\n",
        "R = np.core.records.fromarrays(Z.T, \n",
        "                               names='col1, col2, col3',\n",
        "                               formats = 'S8, f8, i8')\n",
        "print(R)"
      ]
    },
    {
      "cell_type": "markdown",
      "metadata": {
        "id": "v9NS2VSFBe8Y"
      },
      "source": [
        "#### 92. Consider a large vector Z, compute Z to the power of 3 using 3 different methods (★★★) \n",
        "(**hint**: np.power, \\*, np.einsum)"
      ]
    },
    {
      "cell_type": "code",
      "execution_count": null,
      "metadata": {
        "id": "ufxUMuDOBe8Y"
      },
      "outputs": [],
      "source": [
        "x = np.random.rand(5e7)\n",
        "\n",
        "%timeit np.power(x,3)\n",
        "%timeit x*x*x\n",
        "%timeit np.einsum('i,i,i->i',x,x,x)\n",
        "print(x)"
      ]
    },
    {
      "cell_type": "markdown",
      "metadata": {
        "id": "A38uRK69Be8Z"
      },
      "source": [
        "#### 93. Consider two arrays A and B of shape (8,3) and (2,2). How to find rows of A that contain elements of each row of B regardless of the order of the elements in B? (★★★) \n",
        "(**hint**: np.where)"
      ]
    },
    {
      "cell_type": "code",
      "execution_count": 131,
      "metadata": {
        "id": "jqtZ2wxYBe8Z",
        "colab": {
          "base_uri": "https://localhost:8080/"
        },
        "outputId": "3eff4834-6a51-4ff8-b1db-aa1544a9be19"
      },
      "outputs": [
        {
          "output_type": "stream",
          "name": "stdout",
          "text": [
            "[0 1 4 5 7]\n"
          ]
        }
      ],
      "source": [
        "A = np.random.randint(0,5,(8,3))\n",
        "B = np.random.randint(0,5,(2,2))\n",
        "\n",
        "C = (A[..., np.newaxis, np.newaxis] == B)\n",
        "rows = np.where(C.any((3,1)).all(1))[0]\n",
        "print(rows)"
      ]
    },
    {
      "cell_type": "markdown",
      "metadata": {
        "id": "bLFNjxbkBe8Z"
      },
      "source": [
        "#### 94. Considering a 10x3 matrix, extract rows with unequal values (e.g. \\[2,2,3\\]) (★★★)"
      ]
    },
    {
      "cell_type": "code",
      "execution_count": 132,
      "metadata": {
        "id": "kjAhmGCTBe8Z",
        "colab": {
          "base_uri": "https://localhost:8080/"
        },
        "outputId": "c5178968-1f30-43bd-a4b7-834021c8b37b"
      },
      "outputs": [
        {
          "output_type": "stream",
          "name": "stdout",
          "text": [
            "[[3 0 1]\n",
            " [4 3 4]\n",
            " [1 4 4]\n",
            " [4 3 4]\n",
            " [3 2 1]\n",
            " [4 1 0]\n",
            " [3 4 3]\n",
            " [1 1 0]\n",
            " [0 1 4]\n",
            " [0 4 1]]\n",
            "[[3 0 1]\n",
            " [4 3 4]\n",
            " [1 4 4]\n",
            " [4 3 4]\n",
            " [3 2 1]\n",
            " [4 1 0]\n",
            " [3 4 3]\n",
            " [1 1 0]\n",
            " [0 1 4]\n",
            " [0 4 1]]\n",
            "[[3 0 1]\n",
            " [4 3 4]\n",
            " [1 4 4]\n",
            " [4 3 4]\n",
            " [3 2 1]\n",
            " [4 1 0]\n",
            " [3 4 3]\n",
            " [1 1 0]\n",
            " [0 1 4]\n",
            " [0 4 1]]\n"
          ]
        }
      ],
      "source": [
        "Z = np.random.randint(0,5,(10,3))\n",
        "print(Z)\n",
        "# solution for arrays of all dtypes (including string arrays and record arrays)\n",
        "E = np.all(Z[:,1:] == Z[:,:-1], axis=1)\n",
        "U = Z[~E]\n",
        "print(U)\n",
        "# soluiton for numerical arrays only, will work for any number of columns in Z\n",
        "U = Z[Z.max(axis=1) != Z.min(axis=1),:]\n",
        "print(U)"
      ]
    },
    {
      "cell_type": "markdown",
      "metadata": {
        "id": "skC5Gap-Be8a"
      },
      "source": [
        "#### 95. Convert a vector of ints into a matrix binary representation (★★★) \n",
        "(**hint**: np.unpackbits)"
      ]
    },
    {
      "cell_type": "code",
      "execution_count": 133,
      "metadata": {
        "id": "3cQo5oXSBe8a",
        "colab": {
          "base_uri": "https://localhost:8080/"
        },
        "outputId": "f162a601-5bd7-4839-8461-6f68a72db6b7"
      },
      "outputs": [
        {
          "output_type": "stream",
          "name": "stdout",
          "text": [
            "[[0 0 0 0 0 0 0 0]\n",
            " [0 0 0 0 0 0 0 1]\n",
            " [0 0 0 0 0 0 1 0]\n",
            " [0 0 0 0 0 0 1 1]\n",
            " [0 0 0 0 1 1 1 1]\n",
            " [0 0 0 1 0 0 0 0]\n",
            " [0 0 1 0 0 0 0 0]\n",
            " [0 1 0 0 0 0 0 0]\n",
            " [1 0 0 0 0 0 0 0]]\n",
            "[[0 0 0 0 0 0 0 0]\n",
            " [0 0 0 0 0 0 0 1]\n",
            " [0 0 0 0 0 0 1 0]\n",
            " [0 0 0 0 0 0 1 1]\n",
            " [0 0 0 0 1 1 1 1]\n",
            " [0 0 0 1 0 0 0 0]\n",
            " [0 0 1 0 0 0 0 0]\n",
            " [0 1 0 0 0 0 0 0]\n",
            " [1 0 0 0 0 0 0 0]]\n"
          ]
        }
      ],
      "source": [
        "I = np.array([0, 1, 2, 3, 15, 16, 32, 64, 128])\n",
        "B = ((I.reshape(-1,1) & (2**np.arange(8))) != 0).astype(int)\n",
        "print(B[:,::-1])\n",
        "\n",
        "I = np.array([0, 1, 2, 3, 15, 16, 32, 64, 128], dtype=np.uint8)\n",
        "print(np.unpackbits(I[:, np.newaxis], axis=1))"
      ]
    },
    {
      "cell_type": "markdown",
      "metadata": {
        "id": "9A_e_us9Be8a"
      },
      "source": [
        "#### 96. Given a two dimensional array, how to extract unique rows? (★★★) \n",
        "(**hint**: np.ascontiguousarray)"
      ]
    },
    {
      "cell_type": "code",
      "execution_count": 134,
      "metadata": {
        "id": "b_4x8nDdBe8a",
        "colab": {
          "base_uri": "https://localhost:8080/"
        },
        "outputId": "71b2aae7-c1ba-4187-edf9-58271f706c3a"
      },
      "outputs": [
        {
          "output_type": "stream",
          "name": "stdout",
          "text": [
            "[[0 1 0]\n",
            " [0 1 1]\n",
            " [1 0 0]\n",
            " [1 1 0]]\n"
          ]
        }
      ],
      "source": [
        "Z = np.random.randint(0,2,(6,3))\n",
        "T = np.ascontiguousarray(Z).view(np.dtype((np.void, Z.dtype.itemsize * Z.shape[1])))\n",
        "_, idx = np.unique(T, return_index=True)\n",
        "uZ = Z[idx]\n",
        "print(uZ)"
      ]
    },
    {
      "cell_type": "markdown",
      "metadata": {
        "id": "-ZQ9aqbZBe8a"
      },
      "source": [
        "#### 97. Considering 2 vectors A & B, write the einsum equivalent of inner, outer, sum, and mul function (★★★) \n",
        "(**hint**: np.einsum)"
      ]
    },
    {
      "cell_type": "code",
      "execution_count": 135,
      "metadata": {
        "id": "FDWo_C33Be8a",
        "colab": {
          "base_uri": "https://localhost:8080/"
        },
        "outputId": "a457d92d-3f57-4e2d-ce0e-b9400deb4cd5"
      },
      "outputs": [
        {
          "output_type": "execute_result",
          "data": {
            "text/plain": [
              "array([[0.15978068, 0.2035167 , 0.16116651, 0.08676197, 0.02413632,\n",
              "        0.20561863, 0.15023778, 0.14977437, 0.04187172, 0.13668602],\n",
              "       [0.50222745, 0.63969983, 0.50658342, 0.27271283, 0.07586601,\n",
              "        0.64630666, 0.47223193, 0.4707753 , 0.13161246, 0.42963562],\n",
              "       [0.04438421, 0.0565333 , 0.04476917, 0.02410092, 0.00670464,\n",
              "        0.05711717, 0.04173337, 0.04160464, 0.01163121, 0.03796893],\n",
              "       [0.30641923, 0.39029394, 0.3090769 , 0.16638767, 0.0462874 ,\n",
              "        0.39432491, 0.28811835, 0.28722964, 0.08029945, 0.26212947],\n",
              "       [0.22737673, 0.28961551, 0.22934884, 0.12346707, 0.03434732,\n",
              "        0.29260666, 0.21379666, 0.2131372 , 0.05958577, 0.19451176],\n",
              "       [0.20188679, 0.25714832, 0.20363782, 0.10962586, 0.03049683,\n",
              "        0.25980416, 0.18982911, 0.18924357, 0.05290594, 0.17270613],\n",
              "       [0.57180144, 0.72831799, 0.57676085, 0.31049197, 0.08637579,\n",
              "        0.73584007, 0.53765061, 0.5359922 , 0.14984485, 0.4891534 ],\n",
              "       [0.13241169, 0.16865613, 0.13356014, 0.07190042, 0.02000199,\n",
              "        0.17039801, 0.1245034 , 0.12411937, 0.03469947, 0.11327294],\n",
              "       [0.66470651, 0.84665354, 0.67047172, 0.36094004, 0.10040994,\n",
              "        0.85539779, 0.62500693, 0.62307907, 0.17419132, 0.56863   ],\n",
              "       [0.42947916, 0.54703849, 0.43320417, 0.23321003, 0.06487672,\n",
              "        0.55268832, 0.40382853, 0.4025829 , 0.11254823, 0.36740235]])"
            ]
          },
          "metadata": {},
          "execution_count": 135
        }
      ],
      "source": [
        "\n",
        "A = np.random.uniform(0,1,10)\n",
        "B = np.random.uniform(0,1,10)\n",
        "\n",
        "np.einsum('i->', A)       # np.sum(A)\n",
        "np.einsum('i,i->i', A, B) # A * B\n",
        "np.einsum('i,i', A, B)    # np.inner(A, B)\n",
        "np.einsum('i,j->ij', A, B)    # np.outer(A, B)"
      ]
    },
    {
      "cell_type": "markdown",
      "metadata": {
        "id": "MpwN6_v9Be8b"
      },
      "source": [
        "#### 98. Considering a path described by two vectors (X,Y), how to sample it using equidistant samples (★★★)? \n",
        "(**hint**: np.cumsum, np.interp)"
      ]
    },
    {
      "cell_type": "code",
      "execution_count": 136,
      "metadata": {
        "collapsed": true,
        "id": "gJJkLCjTBe8b"
      },
      "outputs": [],
      "source": [
        "\n",
        "phi = np.arange(0, 10*np.pi, 0.1)\n",
        "a = 1\n",
        "x = a*phi*np.cos(phi)\n",
        "y = a*phi*np.sin(phi)\n",
        "\n",
        "dr = (np.diff(x)**2 + np.diff(y)**2)**.5 # segment lengths\n",
        "r = np.zeros_like(x)\n",
        "r[1:] = np.cumsum(dr)                # integrate path\n",
        "r_int = np.linspace(0, r.max(), 200) # regular spaced path\n",
        "x_int = np.interp(r_int, r, x)       # integrate path\n",
        "y_int = np.interp(r_int, r, y)"
      ]
    },
    {
      "cell_type": "markdown",
      "metadata": {
        "id": "OXX4LiKqBe8b"
      },
      "source": [
        "#### 99. Given an integer n and a 2D array X, select from X the rows which can be interpreted as draws from a multinomial distribution with n degrees, i.e., the rows which only contain integers and which sum to n. (★★★) \n",
        "(**hint**: np.logical\\_and.reduce, np.mod)"
      ]
    },
    {
      "cell_type": "code",
      "execution_count": 137,
      "metadata": {
        "id": "lw81_gElBe8b",
        "colab": {
          "base_uri": "https://localhost:8080/"
        },
        "outputId": "10dba092-cd1c-4c66-91d2-e9e6db89e911"
      },
      "outputs": [
        {
          "output_type": "stream",
          "name": "stdout",
          "text": [
            "[[2. 0. 1. 1.]]\n"
          ]
        }
      ],
      "source": [
        "X = np.asarray([[1.0, 0.0, 3.0, 8.0],\n",
        "                [2.0, 0.0, 1.0, 1.0],\n",
        "                [1.5, 2.5, 1.0, 0.0]])\n",
        "n = 4\n",
        "M = np.logical_and.reduce(np.mod(X, 1) == 0, axis=-1)\n",
        "M &= (X.sum(axis=-1) == n)\n",
        "print(X[M])"
      ]
    },
    {
      "cell_type": "markdown",
      "metadata": {
        "id": "tlRjFxdRBe8b"
      },
      "source": [
        "#### 100. Compute bootstrapped 95% confidence intervals for the mean of a 1D array X (i.e., resample the elements of an array with replacement N times, compute the mean of each sample, and then compute percentiles over the means). (★★★) \n",
        "(**hint**: np.percentile)"
      ]
    },
    {
      "cell_type": "code",
      "execution_count": 138,
      "metadata": {
        "id": "xfqfXeupBe8b",
        "colab": {
          "base_uri": "https://localhost:8080/"
        },
        "outputId": "bd3f6092-3e96-40a1-9288-21961a17eb5b"
      },
      "outputs": [
        {
          "output_type": "stream",
          "name": "stdout",
          "text": [
            "[-0.09598146  0.25672448]\n"
          ]
        }
      ],
      "source": [
        "X = np.random.randn(100) # random 1D array\n",
        "N = 1000 # number of bootstrap samples\n",
        "idx = np.random.randint(0, X.size, (N, X.size))\n",
        "means = X[idx].mean(axis=1)\n",
        "confint = np.percentile(means, [2.5, 97.5])\n",
        "print(confint)"
      ]
    }
  ],
  "metadata": {
    "kernelspec": {
      "display_name": "Python 3",
      "language": "python",
      "name": "python3"
    },
    "language_info": {
      "codemirror_mode": {
        "name": "ipython",
        "version": 3
      },
      "file_extension": ".py",
      "mimetype": "text/x-python",
      "name": "python",
      "nbconvert_exporter": "python",
      "pygments_lexer": "ipython3",
      "version": "3.8.3"
    },
    "colab": {
      "name": "Numpy_tasks.ipynb",
      "provenance": [],
      "collapsed_sections": []
    }
  },
  "nbformat": 4,
  "nbformat_minor": 0
}